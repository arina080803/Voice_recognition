{
  "cells": [
    {
      "cell_type": "code",
      "source": [
        "! pip install tensorflow"
      ],
      "metadata": {
        "colab": {
          "base_uri": "https://localhost:8080/"
        },
        "collapsed": true,
        "id": "lqoJCNYY_T1v",
        "outputId": "8611d11f-d552-45e0-817a-a8ae89682d45"
      },
      "execution_count": 1,
      "outputs": [
        {
          "output_type": "stream",
          "name": "stdout",
          "text": [
            "Requirement already satisfied: tensorflow in /usr/local/lib/python3.10/dist-packages (2.17.1)\n",
            "Requirement already satisfied: absl-py>=1.0.0 in /usr/local/lib/python3.10/dist-packages (from tensorflow) (1.4.0)\n",
            "Requirement already satisfied: astunparse>=1.6.0 in /usr/local/lib/python3.10/dist-packages (from tensorflow) (1.6.3)\n",
            "Requirement already satisfied: flatbuffers>=24.3.25 in /usr/local/lib/python3.10/dist-packages (from tensorflow) (24.3.25)\n",
            "Requirement already satisfied: gast!=0.5.0,!=0.5.1,!=0.5.2,>=0.2.1 in /usr/local/lib/python3.10/dist-packages (from tensorflow) (0.6.0)\n",
            "Requirement already satisfied: google-pasta>=0.1.1 in /usr/local/lib/python3.10/dist-packages (from tensorflow) (0.2.0)\n",
            "Requirement already satisfied: h5py>=3.10.0 in /usr/local/lib/python3.10/dist-packages (from tensorflow) (3.12.1)\n",
            "Requirement already satisfied: libclang>=13.0.0 in /usr/local/lib/python3.10/dist-packages (from tensorflow) (18.1.1)\n",
            "Requirement already satisfied: ml-dtypes<0.5.0,>=0.3.1 in /usr/local/lib/python3.10/dist-packages (from tensorflow) (0.4.1)\n",
            "Requirement already satisfied: opt-einsum>=2.3.2 in /usr/local/lib/python3.10/dist-packages (from tensorflow) (3.4.0)\n",
            "Requirement already satisfied: packaging in /usr/local/lib/python3.10/dist-packages (from tensorflow) (24.2)\n",
            "Requirement already satisfied: protobuf!=4.21.0,!=4.21.1,!=4.21.2,!=4.21.3,!=4.21.4,!=4.21.5,<5.0.0dev,>=3.20.3 in /usr/local/lib/python3.10/dist-packages (from tensorflow) (4.25.5)\n",
            "Requirement already satisfied: requests<3,>=2.21.0 in /usr/local/lib/python3.10/dist-packages (from tensorflow) (2.32.3)\n",
            "Requirement already satisfied: setuptools in /usr/local/lib/python3.10/dist-packages (from tensorflow) (75.1.0)\n",
            "Requirement already satisfied: six>=1.12.0 in /usr/local/lib/python3.10/dist-packages (from tensorflow) (1.17.0)\n",
            "Requirement already satisfied: termcolor>=1.1.0 in /usr/local/lib/python3.10/dist-packages (from tensorflow) (2.5.0)\n",
            "Requirement already satisfied: typing-extensions>=3.6.6 in /usr/local/lib/python3.10/dist-packages (from tensorflow) (4.12.2)\n",
            "Requirement already satisfied: wrapt>=1.11.0 in /usr/local/lib/python3.10/dist-packages (from tensorflow) (1.17.0)\n",
            "Requirement already satisfied: grpcio<2.0,>=1.24.3 in /usr/local/lib/python3.10/dist-packages (from tensorflow) (1.68.1)\n",
            "Requirement already satisfied: tensorboard<2.18,>=2.17 in /usr/local/lib/python3.10/dist-packages (from tensorflow) (2.17.1)\n",
            "Requirement already satisfied: keras>=3.2.0 in /usr/local/lib/python3.10/dist-packages (from tensorflow) (3.5.0)\n",
            "Requirement already satisfied: tensorflow-io-gcs-filesystem>=0.23.1 in /usr/local/lib/python3.10/dist-packages (from tensorflow) (0.37.1)\n",
            "Requirement already satisfied: numpy<2.0.0,>=1.23.5 in /usr/local/lib/python3.10/dist-packages (from tensorflow) (1.26.4)\n",
            "Requirement already satisfied: wheel<1.0,>=0.23.0 in /usr/local/lib/python3.10/dist-packages (from astunparse>=1.6.0->tensorflow) (0.45.1)\n",
            "Requirement already satisfied: rich in /usr/local/lib/python3.10/dist-packages (from keras>=3.2.0->tensorflow) (13.9.4)\n",
            "Requirement already satisfied: namex in /usr/local/lib/python3.10/dist-packages (from keras>=3.2.0->tensorflow) (0.0.8)\n",
            "Requirement already satisfied: optree in /usr/local/lib/python3.10/dist-packages (from keras>=3.2.0->tensorflow) (0.13.1)\n",
            "Requirement already satisfied: charset-normalizer<4,>=2 in /usr/local/lib/python3.10/dist-packages (from requests<3,>=2.21.0->tensorflow) (3.4.0)\n",
            "Requirement already satisfied: idna<4,>=2.5 in /usr/local/lib/python3.10/dist-packages (from requests<3,>=2.21.0->tensorflow) (3.10)\n",
            "Requirement already satisfied: urllib3<3,>=1.21.1 in /usr/local/lib/python3.10/dist-packages (from requests<3,>=2.21.0->tensorflow) (2.2.3)\n",
            "Requirement already satisfied: certifi>=2017.4.17 in /usr/local/lib/python3.10/dist-packages (from requests<3,>=2.21.0->tensorflow) (2024.12.14)\n",
            "Requirement already satisfied: markdown>=2.6.8 in /usr/local/lib/python3.10/dist-packages (from tensorboard<2.18,>=2.17->tensorflow) (3.7)\n",
            "Requirement already satisfied: tensorboard-data-server<0.8.0,>=0.7.0 in /usr/local/lib/python3.10/dist-packages (from tensorboard<2.18,>=2.17->tensorflow) (0.7.2)\n",
            "Requirement already satisfied: werkzeug>=1.0.1 in /usr/local/lib/python3.10/dist-packages (from tensorboard<2.18,>=2.17->tensorflow) (3.1.3)\n",
            "Requirement already satisfied: MarkupSafe>=2.1.1 in /usr/local/lib/python3.10/dist-packages (from werkzeug>=1.0.1->tensorboard<2.18,>=2.17->tensorflow) (3.0.2)\n",
            "Requirement already satisfied: markdown-it-py>=2.2.0 in /usr/local/lib/python3.10/dist-packages (from rich->keras>=3.2.0->tensorflow) (3.0.0)\n",
            "Requirement already satisfied: pygments<3.0.0,>=2.13.0 in /usr/local/lib/python3.10/dist-packages (from rich->keras>=3.2.0->tensorflow) (2.18.0)\n",
            "Requirement already satisfied: mdurl~=0.1 in /usr/local/lib/python3.10/dist-packages (from markdown-it-py>=2.2.0->rich->keras>=3.2.0->tensorflow) (0.1.2)\n"
          ]
        }
      ]
    },
    {
      "cell_type": "code",
      "source": [
        "! pip install umap-learn"
      ],
      "metadata": {
        "colab": {
          "base_uri": "https://localhost:8080/",
          "height": 427
        },
        "collapsed": true,
        "id": "WKlfQyZbe1ru",
        "outputId": "79d6cc22-672f-45ec-a85d-02b0375618cd"
      },
      "execution_count": 84,
      "outputs": [
        {
          "output_type": "stream",
          "name": "stdout",
          "text": [
            "Collecting umap-learn\n",
            "  Downloading umap_learn-0.5.7-py3-none-any.whl.metadata (21 kB)\n",
            "Requirement already satisfied: numpy>=1.17 in /usr/local/lib/python3.10/dist-packages (from umap-learn) (1.26.4)\n",
            "Requirement already satisfied: scipy>=1.3.1 in /usr/local/lib/python3.10/dist-packages (from umap-learn) (1.13.1)\n",
            "Requirement already satisfied: scikit-learn>=0.22 in /usr/local/lib/python3.10/dist-packages (from umap-learn) (1.6.0)\n",
            "Requirement already satisfied: numba>=0.51.2 in /usr/local/lib/python3.10/dist-packages (from umap-learn) (0.60.0)\n",
            "Collecting pynndescent>=0.5 (from umap-learn)\n",
            "  Downloading pynndescent-0.5.13-py3-none-any.whl.metadata (6.8 kB)\n",
            "Requirement already satisfied: tqdm in /usr/local/lib/python3.10/dist-packages (from umap-learn) (4.67.1)\n",
            "Requirement already satisfied: llvmlite<0.44,>=0.43.0dev0 in /usr/local/lib/python3.10/dist-packages (from numba>=0.51.2->umap-learn) (0.43.0)\n",
            "Requirement already satisfied: joblib>=0.11 in /usr/local/lib/python3.10/dist-packages (from pynndescent>=0.5->umap-learn) (1.4.2)\n",
            "Requirement already satisfied: threadpoolctl>=3.1.0 in /usr/local/lib/python3.10/dist-packages (from scikit-learn>=0.22->umap-learn) (3.5.0)\n",
            "Downloading umap_learn-0.5.7-py3-none-any.whl (88 kB)\n",
            "\u001b[2K   \u001b[90m━━━━━━━━━━━━━━━━━━━━━━━━━━━━━━━━━━━━━━━━\u001b[0m \u001b[32m88.8/88.8 kB\u001b[0m \u001b[31m3.9 MB/s\u001b[0m eta \u001b[36m0:00:00\u001b[0m\n",
            "\u001b[?25hDownloading pynndescent-0.5.13-py3-none-any.whl (56 kB)\n",
            "\u001b[2K   \u001b[90m━━━━━━━━━━━━━━━━━━━━━━━━━━━━━━━━━━━━━━━━\u001b[0m \u001b[32m56.9/56.9 kB\u001b[0m \u001b[31m3.9 MB/s\u001b[0m eta \u001b[36m0:00:00\u001b[0m\n",
            "\u001b[?25hInstalling collected packages: pynndescent, umap-learn\n",
            "Successfully installed pynndescent-0.5.13 umap-learn-0.5.7\n"
          ]
        },
        {
          "output_type": "display_data",
          "data": {
            "application/vnd.colab-display-data+json": {
              "pip_warning": {
                "packages": [
                  "umap"
                ]
              },
              "id": "4da9c715867e49db99f71eb5cb953617"
            }
          },
          "metadata": {}
        }
      ]
    },
    {
      "cell_type": "code",
      "execution_count": 85,
      "metadata": {
        "id": "qIE59ZpvCDz6"
      },
      "outputs": [],
      "source": [
        "import os\n",
        "import librosa\n",
        "import numpy as np\n",
        "from sklearn.model_selection import train_test_split\n",
        "import torch\n",
        "from torch.utils.data import Dataset, DataLoader, TensorDataset, random_split\n",
        "import shutil\n",
        "import torch.nn as nn\n",
        "import torch.optim as optim\n",
        "from torch.utils.tensorboard import SummaryWriter\n",
        "from sklearn.metrics import accuracy_score\n",
        "from sklearn.model_selection import train_test_split\n",
        "from sklearn.manifold import TSNE\n",
        "import matplotlib.pyplot as plt\n",
        "import umap.umap_ as umap\n",
        "import seaborn as sns"
      ]
    },
    {
      "cell_type": "markdown",
      "metadata": {
        "id": "aicVZL7mCMfe"
      },
      "source": [
        "# Сбор данных"
      ]
    },
    {
      "cell_type": "code",
      "source": [
        "! pip install dagshub"
      ],
      "metadata": {
        "colab": {
          "base_uri": "https://localhost:8080/"
        },
        "collapsed": true,
        "id": "ji4VcuV249Hg",
        "outputId": "93d15274-fc1c-4daa-bc26-6d57deadaecf"
      },
      "execution_count": 4,
      "outputs": [
        {
          "output_type": "stream",
          "name": "stdout",
          "text": [
            "Collecting dagshub\n",
            "  Downloading dagshub-0.4.2-py3-none-any.whl.metadata (11 kB)\n",
            "Requirement already satisfied: PyYAML>=5 in /usr/local/lib/python3.10/dist-packages (from dagshub) (6.0.2)\n",
            "Collecting appdirs>=1.4.4 (from dagshub)\n",
            "  Downloading appdirs-1.4.4-py2.py3-none-any.whl.metadata (9.0 kB)\n",
            "Requirement already satisfied: click>=8.0.4 in /usr/local/lib/python3.10/dist-packages (from dagshub) (8.1.7)\n",
            "Requirement already satisfied: httpx>=0.23.0 in /usr/local/lib/python3.10/dist-packages (from dagshub) (0.28.1)\n",
            "Requirement already satisfied: GitPython>=3.1.29 in /usr/local/lib/python3.10/dist-packages (from dagshub) (3.1.43)\n",
            "Requirement already satisfied: rich>=13.1.0 in /usr/local/lib/python3.10/dist-packages (from dagshub) (13.9.4)\n",
            "Collecting dacite~=1.6.0 (from dagshub)\n",
            "  Downloading dacite-1.6.0-py3-none-any.whl.metadata (14 kB)\n",
            "Requirement already satisfied: tenacity>=8.2.2 in /usr/local/lib/python3.10/dist-packages (from dagshub) (9.0.0)\n",
            "Collecting gql[requests] (from dagshub)\n",
            "  Downloading gql-3.5.0-py2.py3-none-any.whl.metadata (9.2 kB)\n",
            "Collecting dataclasses-json (from dagshub)\n",
            "  Downloading dataclasses_json-0.6.7-py3-none-any.whl.metadata (25 kB)\n",
            "Requirement already satisfied: pandas in /usr/local/lib/python3.10/dist-packages (from dagshub) (2.2.2)\n",
            "Collecting treelib>=1.6.4 (from dagshub)\n",
            "  Downloading treelib-1.7.0-py3-none-any.whl.metadata (1.3 kB)\n",
            "Collecting pathvalidate>=3.0.0 (from dagshub)\n",
            "  Downloading pathvalidate-3.2.1-py3-none-any.whl.metadata (12 kB)\n",
            "Requirement already satisfied: python-dateutil in /usr/local/lib/python3.10/dist-packages (from dagshub) (2.8.2)\n",
            "Collecting boto3 (from dagshub)\n",
            "  Downloading boto3-1.35.90-py3-none-any.whl.metadata (6.7 kB)\n",
            "Collecting dagshub-annotation-converter>=0.1.0 (from dagshub)\n",
            "  Downloading dagshub_annotation_converter-0.1.2-py3-none-any.whl.metadata (2.5 kB)\n",
            "Requirement already satisfied: lxml in /usr/local/lib/python3.10/dist-packages (from dagshub-annotation-converter>=0.1.0->dagshub) (5.3.0)\n",
            "Requirement already satisfied: pillow in /usr/local/lib/python3.10/dist-packages (from dagshub-annotation-converter>=0.1.0->dagshub) (11.0.0)\n",
            "Requirement already satisfied: pydantic>=2.0.0 in /usr/local/lib/python3.10/dist-packages (from dagshub-annotation-converter>=0.1.0->dagshub) (2.10.3)\n",
            "Requirement already satisfied: typing-extensions in /usr/local/lib/python3.10/dist-packages (from dagshub-annotation-converter>=0.1.0->dagshub) (4.12.2)\n",
            "Requirement already satisfied: gitdb<5,>=4.0.1 in /usr/local/lib/python3.10/dist-packages (from GitPython>=3.1.29->dagshub) (4.0.11)\n",
            "Requirement already satisfied: anyio in /usr/local/lib/python3.10/dist-packages (from httpx>=0.23.0->dagshub) (3.7.1)\n",
            "Requirement already satisfied: certifi in /usr/local/lib/python3.10/dist-packages (from httpx>=0.23.0->dagshub) (2024.12.14)\n",
            "Requirement already satisfied: httpcore==1.* in /usr/local/lib/python3.10/dist-packages (from httpx>=0.23.0->dagshub) (1.0.7)\n",
            "Requirement already satisfied: idna in /usr/local/lib/python3.10/dist-packages (from httpx>=0.23.0->dagshub) (3.10)\n",
            "Requirement already satisfied: h11<0.15,>=0.13 in /usr/local/lib/python3.10/dist-packages (from httpcore==1.*->httpx>=0.23.0->dagshub) (0.14.0)\n",
            "Requirement already satisfied: markdown-it-py>=2.2.0 in /usr/local/lib/python3.10/dist-packages (from rich>=13.1.0->dagshub) (3.0.0)\n",
            "Requirement already satisfied: pygments<3.0.0,>=2.13.0 in /usr/local/lib/python3.10/dist-packages (from rich>=13.1.0->dagshub) (2.18.0)\n",
            "Requirement already satisfied: six in /usr/local/lib/python3.10/dist-packages (from treelib>=1.6.4->dagshub) (1.17.0)\n",
            "Collecting botocore<1.36.0,>=1.35.90 (from boto3->dagshub)\n",
            "  Downloading botocore-1.35.90-py3-none-any.whl.metadata (5.7 kB)\n",
            "Collecting jmespath<2.0.0,>=0.7.1 (from boto3->dagshub)\n",
            "  Downloading jmespath-1.0.1-py3-none-any.whl.metadata (7.6 kB)\n",
            "Collecting s3transfer<0.11.0,>=0.10.0 (from boto3->dagshub)\n",
            "  Downloading s3transfer-0.10.4-py3-none-any.whl.metadata (1.7 kB)\n",
            "Collecting marshmallow<4.0.0,>=3.18.0 (from dataclasses-json->dagshub)\n",
            "  Downloading marshmallow-3.23.2-py3-none-any.whl.metadata (7.1 kB)\n",
            "Collecting typing-inspect<1,>=0.4.0 (from dataclasses-json->dagshub)\n",
            "  Downloading typing_inspect-0.9.0-py3-none-any.whl.metadata (1.5 kB)\n",
            "Collecting graphql-core<3.3,>=3.2 (from gql[requests]->dagshub)\n",
            "  Downloading graphql_core-3.2.5-py3-none-any.whl.metadata (10 kB)\n",
            "Requirement already satisfied: yarl<2.0,>=1.6 in /usr/local/lib/python3.10/dist-packages (from gql[requests]->dagshub) (1.18.3)\n",
            "Collecting backoff<3.0,>=1.11.1 (from gql[requests]->dagshub)\n",
            "  Downloading backoff-2.2.1-py3-none-any.whl.metadata (14 kB)\n",
            "Requirement already satisfied: requests<3,>=2.26 in /usr/local/lib/python3.10/dist-packages (from gql[requests]->dagshub) (2.32.3)\n",
            "Requirement already satisfied: requests-toolbelt<2,>=1.0.0 in /usr/local/lib/python3.10/dist-packages (from gql[requests]->dagshub) (1.0.0)\n",
            "Requirement already satisfied: numpy>=1.22.4 in /usr/local/lib/python3.10/dist-packages (from pandas->dagshub) (1.26.4)\n",
            "Requirement already satisfied: pytz>=2020.1 in /usr/local/lib/python3.10/dist-packages (from pandas->dagshub) (2024.2)\n",
            "Requirement already satisfied: tzdata>=2022.7 in /usr/local/lib/python3.10/dist-packages (from pandas->dagshub) (2024.2)\n",
            "Requirement already satisfied: sniffio>=1.1 in /usr/local/lib/python3.10/dist-packages (from anyio->httpx>=0.23.0->dagshub) (1.3.1)\n",
            "Requirement already satisfied: exceptiongroup in /usr/local/lib/python3.10/dist-packages (from anyio->httpx>=0.23.0->dagshub) (1.2.2)\n",
            "Requirement already satisfied: urllib3!=2.2.0,<3,>=1.25.4 in /usr/local/lib/python3.10/dist-packages (from botocore<1.36.0,>=1.35.90->boto3->dagshub) (2.2.3)\n",
            "Requirement already satisfied: smmap<6,>=3.0.1 in /usr/local/lib/python3.10/dist-packages (from gitdb<5,>=4.0.1->GitPython>=3.1.29->dagshub) (5.0.1)\n",
            "Requirement already satisfied: mdurl~=0.1 in /usr/local/lib/python3.10/dist-packages (from markdown-it-py>=2.2.0->rich>=13.1.0->dagshub) (0.1.2)\n",
            "Requirement already satisfied: packaging>=17.0 in /usr/local/lib/python3.10/dist-packages (from marshmallow<4.0.0,>=3.18.0->dataclasses-json->dagshub) (24.2)\n",
            "Requirement already satisfied: annotated-types>=0.6.0 in /usr/local/lib/python3.10/dist-packages (from pydantic>=2.0.0->dagshub-annotation-converter>=0.1.0->dagshub) (0.7.0)\n",
            "Requirement already satisfied: pydantic-core==2.27.1 in /usr/local/lib/python3.10/dist-packages (from pydantic>=2.0.0->dagshub-annotation-converter>=0.1.0->dagshub) (2.27.1)\n",
            "Requirement already satisfied: charset-normalizer<4,>=2 in /usr/local/lib/python3.10/dist-packages (from requests<3,>=2.26->gql[requests]->dagshub) (3.4.0)\n",
            "Collecting mypy-extensions>=0.3.0 (from typing-inspect<1,>=0.4.0->dataclasses-json->dagshub)\n",
            "  Downloading mypy_extensions-1.0.0-py3-none-any.whl.metadata (1.1 kB)\n",
            "Requirement already satisfied: multidict>=4.0 in /usr/local/lib/python3.10/dist-packages (from yarl<2.0,>=1.6->gql[requests]->dagshub) (6.1.0)\n",
            "Requirement already satisfied: propcache>=0.2.0 in /usr/local/lib/python3.10/dist-packages (from yarl<2.0,>=1.6->gql[requests]->dagshub) (0.2.1)\n",
            "Downloading dagshub-0.4.2-py3-none-any.whl (255 kB)\n",
            "\u001b[2K   \u001b[90m━━━━━━━━━━━━━━━━━━━━━━━━━━━━━━━━━━━━━━━━\u001b[0m \u001b[32m255.6/255.6 kB\u001b[0m \u001b[31m6.8 MB/s\u001b[0m eta \u001b[36m0:00:00\u001b[0m\n",
            "\u001b[?25hDownloading appdirs-1.4.4-py2.py3-none-any.whl (9.6 kB)\n",
            "Downloading dacite-1.6.0-py3-none-any.whl (12 kB)\n",
            "Downloading dagshub_annotation_converter-0.1.2-py3-none-any.whl (33 kB)\n",
            "Downloading pathvalidate-3.2.1-py3-none-any.whl (23 kB)\n",
            "Downloading treelib-1.7.0-py3-none-any.whl (18 kB)\n",
            "Downloading boto3-1.35.90-py3-none-any.whl (139 kB)\n",
            "\u001b[2K   \u001b[90m━━━━━━━━━━━━━━━━━━━━━━━━━━━━━━━━━━━━━━━━\u001b[0m \u001b[32m139.2/139.2 kB\u001b[0m \u001b[31m13.0 MB/s\u001b[0m eta \u001b[36m0:00:00\u001b[0m\n",
            "\u001b[?25hDownloading dataclasses_json-0.6.7-py3-none-any.whl (28 kB)\n",
            "Downloading backoff-2.2.1-py3-none-any.whl (15 kB)\n",
            "Downloading botocore-1.35.90-py3-none-any.whl (13.3 MB)\n",
            "\u001b[2K   \u001b[90m━━━━━━━━━━━━━━━━━━━━━━━━━━━━━━━━━━━━━━━━\u001b[0m \u001b[32m13.3/13.3 MB\u001b[0m \u001b[31m87.7 MB/s\u001b[0m eta \u001b[36m0:00:00\u001b[0m\n",
            "\u001b[?25hDownloading graphql_core-3.2.5-py3-none-any.whl (203 kB)\n",
            "\u001b[2K   \u001b[90m━━━━━━━━━━━━━━━━━━━━━━━━━━━━━━━━━━━━━━━━\u001b[0m \u001b[32m203.2/203.2 kB\u001b[0m \u001b[31m17.9 MB/s\u001b[0m eta \u001b[36m0:00:00\u001b[0m\n",
            "\u001b[?25hDownloading jmespath-1.0.1-py3-none-any.whl (20 kB)\n",
            "Downloading marshmallow-3.23.2-py3-none-any.whl (49 kB)\n",
            "\u001b[2K   \u001b[90m━━━━━━━━━━━━━━━━━━━━━━━━━━━━━━━━━━━━━━━━\u001b[0m \u001b[32m49.3/49.3 kB\u001b[0m \u001b[31m4.9 MB/s\u001b[0m eta \u001b[36m0:00:00\u001b[0m\n",
            "\u001b[?25hDownloading s3transfer-0.10.4-py3-none-any.whl (83 kB)\n",
            "\u001b[2K   \u001b[90m━━━━━━━━━━━━━━━━━━━━━━━━━━━━━━━━━━━━━━━━\u001b[0m \u001b[32m83.2/83.2 kB\u001b[0m \u001b[31m8.4 MB/s\u001b[0m eta \u001b[36m0:00:00\u001b[0m\n",
            "\u001b[?25hDownloading typing_inspect-0.9.0-py3-none-any.whl (8.8 kB)\n",
            "Downloading gql-3.5.0-py2.py3-none-any.whl (74 kB)\n",
            "\u001b[2K   \u001b[90m━━━━━━━━━━━━━━━━━━━━━━━━━━━━━━━━━━━━━━━━\u001b[0m \u001b[32m74.0/74.0 kB\u001b[0m \u001b[31m7.2 MB/s\u001b[0m eta \u001b[36m0:00:00\u001b[0m\n",
            "\u001b[?25hDownloading mypy_extensions-1.0.0-py3-none-any.whl (4.7 kB)\n",
            "Installing collected packages: appdirs, treelib, pathvalidate, mypy-extensions, marshmallow, jmespath, graphql-core, dacite, backoff, typing-inspect, botocore, s3transfer, gql, dataclasses-json, dagshub-annotation-converter, boto3, dagshub\n",
            "Successfully installed appdirs-1.4.4 backoff-2.2.1 boto3-1.35.90 botocore-1.35.90 dacite-1.6.0 dagshub-0.4.2 dagshub-annotation-converter-0.1.2 dataclasses-json-0.6.7 gql-3.5.0 graphql-core-3.2.5 jmespath-1.0.1 marshmallow-3.23.2 mypy-extensions-1.0.0 pathvalidate-3.2.1 s3transfer-0.10.4 treelib-1.7.0 typing-inspect-0.9.0\n"
          ]
        }
      ]
    },
    {
      "cell_type": "code",
      "execution_count": 5,
      "metadata": {
        "colab": {
          "base_uri": "https://localhost:8080/",
          "height": 176,
          "referenced_widgets": [
            "cc55b05c5a874d3898426e61b2ac9aa0",
            "a0b976eb396c4bbc968651c95e8b9877"
          ]
        },
        "collapsed": true,
        "id": "IqmKc1R7GKy3",
        "outputId": "d8fdc038-4322-49f2-cf59-4e0d15baae8d"
      },
      "outputs": [
        {
          "output_type": "display_data",
          "data": {
            "text/plain": [
              "                                       \u001b[1m❗❗❗ AUTHORIZATION REQUIRED ❗❗❗\u001b[0m                                        \n"
            ],
            "text/html": [
              "<pre style=\"white-space:pre;overflow-x:auto;line-height:normal;font-family:Menlo,'DejaVu Sans Mono',consolas,'Courier New',monospace\">                                       <span style=\"font-weight: bold\">❗❗❗ AUTHORIZATION REQUIRED ❗❗❗</span>                                        \n",
              "</pre>\n"
            ]
          },
          "metadata": {}
        },
        {
          "output_type": "stream",
          "name": "stdout",
          "text": [
            "\n",
            "\n",
            "Open the following link in your browser to authorize the client:\n",
            "https://dagshub.com/login/oauth/authorize?state=d24067a7-66f5-46c4-b471-aa2ac1339744&client_id=32b60ba385aa7cecf24046d8195a71c07dd345d9657977863b52e7748e0f0f28&middleman_request_id=4873bf001ccfac7f55a64a18a81f9efd29318d76254ae8cc2f824efda549b032\n",
            "\n",
            "\n"
          ]
        },
        {
          "output_type": "display_data",
          "data": {
            "text/plain": [
              "Output()"
            ],
            "application/vnd.jupyter.widget-view+json": {
              "version_major": 2,
              "version_minor": 0,
              "model_id": "cc55b05c5a874d3898426e61b2ac9aa0"
            }
          },
          "metadata": {}
        },
        {
          "output_type": "display_data",
          "data": {
            "text/plain": [],
            "text/html": [
              "<pre style=\"white-space:pre;overflow-x:auto;line-height:normal;font-family:Menlo,'DejaVu Sans Mono',consolas,'Courier New',monospace\"></pre>\n"
            ]
          },
          "metadata": {}
        },
        {
          "output_type": "display_data",
          "data": {
            "text/plain": [
              "Accessing as startsevaarina4\n"
            ],
            "text/html": [
              "<pre style=\"white-space:pre;overflow-x:auto;line-height:normal;font-family:Menlo,'DejaVu Sans Mono',consolas,'Courier New',monospace\">Accessing as startsevaarina4\n",
              "</pre>\n"
            ]
          },
          "metadata": {}
        }
      ],
      "source": [
        "from dagshub.streaming import DagsHubFilesystem\n",
        "\n",
        "fs = DagsHubFilesystem(\".\", repo_url=\"https://dagshub.com/DagsHub-Datasets/voice_gender_detection\")\n",
        "#fs.listdir(\"males\")"
      ]
    },
    {
      "cell_type": "code",
      "execution_count": 7,
      "metadata": {
        "colab": {
          "base_uri": "https://localhost:8080/"
        },
        "id": "x9whZjLICRpg",
        "collapsed": true,
        "outputId": "88f1f1aa-5a17-4fa7-a5b7-09e1f5c33544"
      },
      "outputs": [
        {
          "output_type": "stream",
          "name": "stdout",
          "text": [
            "Downloaded: 1863.wav to M_F_dataset/males/1863.wav\n",
            "Downloaded: 193.wav to M_F_dataset/males/193.wav\n",
            "Downloaded: 1846.wav to M_F_dataset/males/1846.wav\n",
            "Downloaded: 1750.wav to M_F_dataset/males/1750.wav\n",
            "Downloaded: 2044.wav to M_F_dataset/males/2044.wav\n",
            "Downloaded: 2275.wav to M_F_dataset/males/2275.wav\n",
            "Downloaded: 1043.wav to M_F_dataset/males/1043.wav\n",
            "Downloaded: 1461.wav to M_F_dataset/males/1461.wav\n",
            "Downloaded: 1955.wav to M_F_dataset/males/1955.wav\n",
            "Downloaded: 2041.wav to M_F_dataset/males/2041.wav\n",
            "Downloaded: 2148.wav to M_F_dataset/males/2148.wav\n",
            "Downloaded: 2717.wav to M_F_dataset/males/2717.wav\n",
            "Downloaded: 3076.wav to M_F_dataset/males/3076.wav\n",
            "Downloaded: 1435.wav to M_F_dataset/males/1435.wav\n",
            "Downloaded: 2297.wav to M_F_dataset/males/2297.wav\n",
            "Downloaded: 2526.wav to M_F_dataset/males/2526.wav\n",
            "Downloaded: 1892.wav to M_F_dataset/males/1892.wav\n",
            "Downloaded: 3132.wav to M_F_dataset/males/3132.wav\n",
            "Downloaded: 2099.wav to M_F_dataset/males/2099.wav\n",
            "Downloaded: 2378.wav to M_F_dataset/males/2378.wav\n",
            "Downloaded: 1823.wav to M_F_dataset/males/1823.wav\n",
            "Downloaded: 2273.wav to M_F_dataset/males/2273.wav\n",
            "Downloaded: 2132.wav to M_F_dataset/males/2132.wav\n",
            "Downloaded: 3478.wav to M_F_dataset/males/3478.wav\n",
            "Downloaded: 2163.wav to M_F_dataset/males/2163.wav\n",
            "Downloaded: 2695.wav to M_F_dataset/males/2695.wav\n",
            "Downloaded: 2751.wav to M_F_dataset/males/2751.wav\n",
            "Downloaded: 490.wav to M_F_dataset/males/490.wav\n",
            "Downloaded: 1379.wav to M_F_dataset/males/1379.wav\n",
            "Downloaded: 2623.wav to M_F_dataset/males/2623.wav\n",
            "Downloaded: 3238.wav to M_F_dataset/males/3238.wav\n",
            "Downloaded: 2677.wav to M_F_dataset/males/2677.wav\n",
            "Downloaded: 1466.wav to M_F_dataset/males/1466.wav\n",
            "Downloaded: 1069.wav to M_F_dataset/males/1069.wav\n",
            "Downloaded: 1294.wav to M_F_dataset/males/1294.wav\n",
            "Downloaded: 2919.wav to M_F_dataset/males/2919.wav\n",
            "Downloaded: 3222.wav to M_F_dataset/males/3222.wav\n",
            "Downloaded: 3535.wav to M_F_dataset/males/3535.wav\n",
            "Downloaded: 830.wav to M_F_dataset/males/830.wav\n",
            "Downloaded: 1040.wav to M_F_dataset/males/1040.wav\n",
            "Downloaded: 3486.wav to M_F_dataset/males/3486.wav\n",
            "Downloaded: 350.wav to M_F_dataset/males/350.wav\n",
            "Downloaded: 3385.wav to M_F_dataset/males/3385.wav\n",
            "Downloaded: 1632.wav to M_F_dataset/males/1632.wav\n",
            "Downloaded: 2600.wav to M_F_dataset/males/2600.wav\n",
            "Downloaded: 3332.wav to M_F_dataset/males/3332.wav\n",
            "Downloaded: 3135.wav to M_F_dataset/males/3135.wav\n",
            "Downloaded: 3432.wav to M_F_dataset/males/3432.wav\n",
            "Downloaded: 1754.wav to M_F_dataset/males/1754.wav\n",
            "Downloaded: 2379.wav to M_F_dataset/males/2379.wav\n",
            "Downloaded: 1303.wav to M_F_dataset/males/1303.wav\n",
            "Downloaded: 1873.wav to M_F_dataset/males/1873.wav\n",
            "Downloaded: 1258.wav to M_F_dataset/males/1258.wav\n",
            "Downloaded: 740.wav to M_F_dataset/males/740.wav\n",
            "Downloaded: 899.wav to M_F_dataset/males/899.wav\n",
            "Downloaded: 849.wav to M_F_dataset/males/849.wav\n",
            "Downloaded: 1315.wav to M_F_dataset/males/1315.wav\n",
            "Downloaded: 2365.wav to M_F_dataset/males/2365.wav\n",
            "Downloaded: 1596.wav to M_F_dataset/males/1596.wav\n",
            "Downloaded: 2029.wav to M_F_dataset/males/2029.wav\n",
            "Downloaded: 3233.wav to M_F_dataset/males/3233.wav\n",
            "Downloaded: 145.wav to M_F_dataset/males/145.wav\n",
            "Downloaded: 41.wav to M_F_dataset/males/41.wav\n",
            "Downloaded: 330.wav to M_F_dataset/males/330.wav\n",
            "Downloaded: 992.wav to M_F_dataset/males/992.wav\n",
            "Downloaded: 1797.wav to M_F_dataset/males/1797.wav\n",
            "Downloaded: 2834.wav to M_F_dataset/males/2834.wav\n",
            "Downloaded: 2434.wav to M_F_dataset/males/2434.wav\n",
            "Downloaded: 867.wav to M_F_dataset/males/867.wav\n",
            "Downloaded: 1688.wav to M_F_dataset/males/1688.wav\n",
            "Downloaded: 2135.wav to M_F_dataset/males/2135.wav\n",
            "Downloaded: 363.wav to M_F_dataset/males/363.wav\n",
            "Downloaded: 111.wav to M_F_dataset/males/111.wav\n",
            "Downloaded: 173.wav to M_F_dataset/males/173.wav\n",
            "Downloaded: 3580.wav to M_F_dataset/males/3580.wav\n",
            "Downloaded: 1528.wav to M_F_dataset/males/1528.wav\n",
            "Downloaded: 1564.wav to M_F_dataset/males/1564.wav\n",
            "Downloaded: 1636.wav to M_F_dataset/males/1636.wav\n",
            "Downloaded: 218.wav to M_F_dataset/males/218.wav\n",
            "Downloaded: 2488.wav to M_F_dataset/males/2488.wav\n",
            "Downloaded: 3309.wav to M_F_dataset/males/3309.wav\n",
            "Downloaded: 2645.wav to M_F_dataset/males/2645.wav\n",
            "Downloaded: 856.wav to M_F_dataset/males/856.wav\n",
            "Downloaded: 516.wav to M_F_dataset/males/516.wav\n",
            "Downloaded: 1954.wav to M_F_dataset/males/1954.wav\n",
            "Downloaded: 2758.wav to M_F_dataset/males/2758.wav\n",
            "Downloaded: 2092.wav to M_F_dataset/males/2092.wav\n",
            "Downloaded: 640.wav to M_F_dataset/males/640.wav\n",
            "Downloaded: 284.wav to M_F_dataset/males/284.wav\n",
            "Downloaded: 3156.wav to M_F_dataset/males/3156.wav\n",
            "Downloaded: 353.wav to M_F_dataset/males/353.wav\n",
            "Downloaded: 2564.wav to M_F_dataset/males/2564.wav\n",
            "Downloaded: 1357.wav to M_F_dataset/males/1357.wav\n",
            "Downloaded: 365.wav to M_F_dataset/males/365.wav\n",
            "Downloaded: 2177.wav to M_F_dataset/males/2177.wav\n",
            "Downloaded: 2271.wav to M_F_dataset/males/2271.wav\n",
            "Downloaded: 2741.wav to M_F_dataset/males/2741.wav\n",
            "Downloaded: 3521.wav to M_F_dataset/males/3521.wav\n",
            "Downloaded: 3304.wav to M_F_dataset/males/3304.wav\n",
            "Downloaded: 203.wav to M_F_dataset/males/203.wav\n",
            "Downloaded: 2267.wav to M_F_dataset/males/2267.wav\n",
            "Downloaded: 1091.wav to M_F_dataset/males/1091.wav\n",
            "Downloaded: 2702.wav to M_F_dataset/males/2702.wav\n",
            "Downloaded: 1878.wav to M_F_dataset/males/1878.wav\n",
            "Downloaded: 996.wav to M_F_dataset/males/996.wav\n",
            "Downloaded: 1497.wav to M_F_dataset/males/1497.wav\n",
            "Downloaded: 904.wav to M_F_dataset/males/904.wav\n",
            "Downloaded: 2482.wav to M_F_dataset/males/2482.wav\n",
            "Downloaded: 1643.wav to M_F_dataset/males/1643.wav\n",
            "Downloaded: 3115.wav to M_F_dataset/males/3115.wav\n",
            "Downloaded: 2117.wav to M_F_dataset/males/2117.wav\n",
            "Downloaded: 3154.wav to M_F_dataset/males/3154.wav\n",
            "Downloaded: 1473.wav to M_F_dataset/males/1473.wav\n",
            "Downloaded: 3269.wav to M_F_dataset/males/3269.wav\n",
            "Downloaded: 1707.wav to M_F_dataset/males/1707.wav\n",
            "Downloaded: 3356.wav to M_F_dataset/males/3356.wav\n",
            "Downloaded: 1148.wav to M_F_dataset/males/1148.wav\n",
            "Downloaded: 406.wav to M_F_dataset/males/406.wav\n",
            "Downloaded: 3367.wav to M_F_dataset/males/3367.wav\n",
            "Downloaded: 2898.wav to M_F_dataset/males/2898.wav\n",
            "Downloaded: 307.wav to M_F_dataset/males/307.wav\n",
            "Downloaded: 1217.wav to M_F_dataset/males/1217.wav\n",
            "Downloaded: 3329.wav to M_F_dataset/males/3329.wav\n",
            "Downloaded: 2889.wav to M_F_dataset/males/2889.wav\n",
            "Downloaded: 879.wav to M_F_dataset/males/879.wav\n",
            "Downloaded: 198.wav to M_F_dataset/males/198.wav\n",
            "Downloaded: 3625.wav to M_F_dataset/males/3625.wav\n",
            "Downloaded: 172.wav to M_F_dataset/males/172.wav\n",
            "Downloaded: 1345.wav to M_F_dataset/males/1345.wav\n",
            "Downloaded: 1587.wav to M_F_dataset/males/1587.wav\n",
            "Downloaded: 747.wav to M_F_dataset/males/747.wav\n",
            "Downloaded: 2704.wav to M_F_dataset/males/2704.wav\n",
            "Downloaded: 925.wav to M_F_dataset/males/925.wav\n",
            "Downloaded: 2911.wav to M_F_dataset/males/2911.wav\n",
            "Downloaded: 2073.wav to M_F_dataset/males/2073.wav\n",
            "Downloaded: 2725.wav to M_F_dataset/males/2725.wav\n",
            "Downloaded: 754.wav to M_F_dataset/males/754.wav\n",
            "Downloaded: 3104.wav to M_F_dataset/males/3104.wav\n",
            "Downloaded: 908.wav to M_F_dataset/males/908.wav\n",
            "Downloaded: 1603.wav to M_F_dataset/males/1603.wav\n",
            "Downloaded: 2870.wav to M_F_dataset/males/2870.wav\n",
            "Downloaded: 2707.wav to M_F_dataset/males/2707.wav\n",
            "Downloaded: 228.wav to M_F_dataset/males/228.wav\n",
            "Downloaded: 2534.wav to M_F_dataset/males/2534.wav\n",
            "Downloaded: 1000.wav to M_F_dataset/males/1000.wav\n",
            "Downloaded: 1394.wav to M_F_dataset/males/1394.wav\n",
            "Downloaded: 1269.wav to M_F_dataset/males/1269.wav\n",
            "Downloaded: 364.wav to M_F_dataset/males/364.wav\n",
            "Downloaded: 679.wav to M_F_dataset/males/679.wav\n",
            "Downloaded: 660.wav to M_F_dataset/males/660.wav\n",
            "Downloaded: 911.wav to M_F_dataset/males/911.wav\n",
            "Downloaded: 3494.wav to M_F_dataset/males/3494.wav\n",
            "Downloaded: 3590.wav to M_F_dataset/males/3590.wav\n",
            "Downloaded: 2069.wav to M_F_dataset/males/2069.wav\n",
            "Downloaded: 1729.wav to M_F_dataset/males/1729.wav\n",
            "Downloaded: 1804.wav to M_F_dataset/males/1804.wav\n",
            "Downloaded: 319.wav to M_F_dataset/males/319.wav\n",
            "Downloaded: 3220.wav to M_F_dataset/males/3220.wav\n",
            "Downloaded: 2125.wav to M_F_dataset/males/2125.wav\n",
            "Downloaded: 2503.wav to M_F_dataset/males/2503.wav\n",
            "Downloaded: 129.wav to M_F_dataset/males/129.wav\n",
            "Downloaded: 2884.wav to M_F_dataset/males/2884.wav\n",
            "Downloaded: 2932.wav to M_F_dataset/males/2932.wav\n",
            "Downloaded: 3034.wav to M_F_dataset/males/3034.wav\n",
            "Downloaded: 3372.wav to M_F_dataset/males/3372.wav\n",
            "Downloaded: 1171.wav to M_F_dataset/males/1171.wav\n",
            "Downloaded: 1736.wav to M_F_dataset/males/1736.wav\n",
            "Downloaded: 1514.wav to M_F_dataset/males/1514.wav\n",
            "Downloaded: 163.wav to M_F_dataset/males/163.wav\n",
            "Downloaded: 2513.wav to M_F_dataset/males/2513.wav\n",
            "Downloaded: 502.wav to M_F_dataset/males/502.wav\n",
            "Downloaded: 3564.wav to M_F_dataset/males/3564.wav\n",
            "Downloaded: 3624.wav to M_F_dataset/males/3624.wav\n",
            "Downloaded: 3479.wav to M_F_dataset/males/3479.wav\n",
            "Downloaded: 2941.wav to M_F_dataset/males/2941.wav\n",
            "Downloaded: 15.wav to M_F_dataset/males/15.wav\n",
            "Downloaded: 3171.wav to M_F_dataset/males/3171.wav\n",
            "Downloaded: 3509.wav to M_F_dataset/males/3509.wav\n",
            "Downloaded: 3609.wav to M_F_dataset/males/3609.wav\n",
            "Downloaded: 1831.wav to M_F_dataset/males/1831.wav\n",
            "Downloaded: 2774.wav to M_F_dataset/males/2774.wav\n",
            "Downloaded: 539.wav to M_F_dataset/males/539.wav\n",
            "Downloaded: 1464.wav to M_F_dataset/males/1464.wav\n",
            "Downloaded: 3426.wav to M_F_dataset/males/3426.wav\n",
            "Downloaded: 2409.wav to M_F_dataset/males/2409.wav\n",
            "Downloaded: 1525.wav to M_F_dataset/males/1525.wav\n",
            "Downloaded: 376.wav to M_F_dataset/males/376.wav\n",
            "Downloaded: 1631.wav to M_F_dataset/males/1631.wav\n",
            "Downloaded: 419.wav to M_F_dataset/males/419.wav\n",
            "Downloaded: 3073.wav to M_F_dataset/males/3073.wav\n",
            "Downloaded: 3184.wav to M_F_dataset/males/3184.wav\n",
            "Downloaded: 220.wav to M_F_dataset/males/220.wav\n",
            "Downloaded: 3230.wav to M_F_dataset/males/3230.wav\n",
            "Downloaded: 1202.wav to M_F_dataset/males/1202.wav\n",
            "Downloaded: 1693.wav to M_F_dataset/males/1693.wav\n",
            "Downloaded: 2737.wav to M_F_dataset/males/2737.wav\n",
            "Downloaded: 562.wav to M_F_dataset/males/562.wav\n",
            "Downloaded: 1107.wav to M_F_dataset/males/1107.wav\n",
            "Downloaded: 2101.wav to M_F_dataset/males/2101.wav\n",
            "Downloaded: 3008.wav to M_F_dataset/males/3008.wav\n",
            "Downloaded: 2790.wav to M_F_dataset/males/2790.wav\n",
            "Downloaded: 1372.wav to M_F_dataset/males/1372.wav\n",
            "Downloaded: 302.wav to M_F_dataset/males/302.wav\n",
            "Downloaded: 2290.wav to M_F_dataset/males/2290.wav\n",
            "Downloaded: 1146.wav to M_F_dataset/males/1146.wav\n",
            "Downloaded: 378.wav to M_F_dataset/males/378.wav\n",
            "Downloaded: 2356.wav to M_F_dataset/males/2356.wav\n",
            "Downloaded: 1899.wav to M_F_dataset/males/1899.wav\n",
            "Downloaded: 1027.wav to M_F_dataset/males/1027.wav\n",
            "Downloaded: 1475.wav to M_F_dataset/males/1475.wav\n",
            "Downloaded: 3014.wav to M_F_dataset/males/3014.wav\n",
            "Downloaded: 475.wav to M_F_dataset/males/475.wav\n",
            "Downloaded: 1158.wav to M_F_dataset/males/1158.wav\n",
            "Downloaded: 1776.wav to M_F_dataset/males/1776.wav\n",
            "Downloaded: 2118.wav to M_F_dataset/males/2118.wav\n",
            "Downloaded: 1489.wav to M_F_dataset/males/1489.wav\n",
            "Downloaded: 1138.wav to M_F_dataset/males/1138.wav\n",
            "Downloaded: 2781.wav to M_F_dataset/males/2781.wav\n",
            "Downloaded: 2910.wav to M_F_dataset/males/2910.wav\n",
            "Downloaded: 1066.wav to M_F_dataset/males/1066.wav\n",
            "Downloaded: 1561.wav to M_F_dataset/males/1561.wav\n",
            "Downloaded: 604.wav to M_F_dataset/males/604.wav\n",
            "Downloaded: 394.wav to M_F_dataset/males/394.wav\n",
            "Downloaded: 2024.wav to M_F_dataset/males/2024.wav\n",
            "Downloaded: 3410.wav to M_F_dataset/males/3410.wav\n",
            "Downloaded: 1583.wav to M_F_dataset/males/1583.wav\n",
            "Downloaded: 3145.wav to M_F_dataset/males/3145.wav\n",
            "Downloaded: 588.wav to M_F_dataset/males/588.wav\n",
            "Downloaded: 902.wav to M_F_dataset/males/902.wav\n",
            "Downloaded: 2154.wav to M_F_dataset/males/2154.wav\n",
            "Downloaded: 2519.wav to M_F_dataset/males/2519.wav\n",
            "Downloaded: 2979.wav to M_F_dataset/males/2979.wav\n",
            "Downloaded: 2055.wav to M_F_dataset/males/2055.wav\n",
            "Downloaded: 3318.wav to M_F_dataset/males/3318.wav\n",
            "Downloaded: 3453.wav to M_F_dataset/males/3453.wav\n",
            "Downloaded: 3552.wav to M_F_dataset/males/3552.wav\n",
            "Downloaded: 61.wav to M_F_dataset/males/61.wav\n",
            "Downloaded: 1097.wav to M_F_dataset/males/1097.wav\n",
            "Downloaded: 55.wav to M_F_dataset/males/55.wav\n",
            "Downloaded: 442.wav to M_F_dataset/males/442.wav\n",
            "Downloaded: 2306.wav to M_F_dataset/males/2306.wav\n",
            "Downloaded: 2225.wav to M_F_dataset/males/2225.wav\n",
            "Downloaded: 2544.wav to M_F_dataset/males/2544.wav\n",
            "Downloaded: 2982.wav to M_F_dataset/males/2982.wav\n",
            "Downloaded: 372.wav to M_F_dataset/males/372.wav\n",
            "Downloaded: 170.wav to M_F_dataset/males/170.wav\n",
            "Downloaded: 1867.wav to M_F_dataset/males/1867.wav\n",
            "Downloaded: 300.wav to M_F_dataset/males/300.wav\n",
            "Downloaded: 2374.wav to M_F_dataset/males/2374.wav\n",
            "Downloaded: 3666.wav to M_F_dataset/males/3666.wav\n",
            "Downloaded: 1863.wav to M_F_dataset/females/1863.wav\n",
            "Downloaded: 193.wav to M_F_dataset/females/193.wav\n",
            "Downloaded: 1846.wav to M_F_dataset/females/1846.wav\n",
            "Downloaded: 1750.wav to M_F_dataset/females/1750.wav\n",
            "Downloaded: 2044.wav to M_F_dataset/females/2044.wav\n",
            "Downloaded: 2275.wav to M_F_dataset/females/2275.wav\n",
            "Downloaded: 1043.wav to M_F_dataset/females/1043.wav\n",
            "Downloaded: 1461.wav to M_F_dataset/females/1461.wav\n",
            "Downloaded: 1955.wav to M_F_dataset/females/1955.wav\n",
            "Downloaded: 2041.wav to M_F_dataset/females/2041.wav\n",
            "Downloaded: 2148.wav to M_F_dataset/females/2148.wav\n",
            "Downloaded: 1435.wav to M_F_dataset/females/1435.wav\n",
            "Downloaded: 2297.wav to M_F_dataset/females/2297.wav\n",
            "Downloaded: 1892.wav to M_F_dataset/females/1892.wav\n",
            "Downloaded: 2099.wav to M_F_dataset/females/2099.wav\n",
            "Downloaded: 1823.wav to M_F_dataset/females/1823.wav\n",
            "Downloaded: 2273.wav to M_F_dataset/females/2273.wav\n",
            "Downloaded: 2132.wav to M_F_dataset/females/2132.wav\n",
            "Downloaded: 2163.wav to M_F_dataset/females/2163.wav\n",
            "Downloaded: 490.wav to M_F_dataset/females/490.wav\n",
            "Downloaded: 1379.wav to M_F_dataset/females/1379.wav\n",
            "Downloaded: 1466.wav to M_F_dataset/females/1466.wav\n",
            "Downloaded: 1069.wav to M_F_dataset/females/1069.wav\n",
            "Downloaded: 1294.wav to M_F_dataset/females/1294.wav\n",
            "Downloaded: 830.wav to M_F_dataset/females/830.wav\n",
            "Downloaded: 1040.wav to M_F_dataset/females/1040.wav\n",
            "Downloaded: 350.wav to M_F_dataset/females/350.wav\n",
            "Downloaded: 1632.wav to M_F_dataset/females/1632.wav\n",
            "Downloaded: 1754.wav to M_F_dataset/females/1754.wav\n",
            "Downloaded: 1303.wav to M_F_dataset/females/1303.wav\n",
            "Downloaded: 1873.wav to M_F_dataset/females/1873.wav\n",
            "Downloaded: 1258.wav to M_F_dataset/females/1258.wav\n",
            "Downloaded: 740.wav to M_F_dataset/females/740.wav\n",
            "Downloaded: 899.wav to M_F_dataset/females/899.wav\n",
            "Downloaded: 849.wav to M_F_dataset/females/849.wav\n",
            "Downloaded: 1315.wav to M_F_dataset/females/1315.wav\n",
            "Downloaded: 1596.wav to M_F_dataset/females/1596.wav\n",
            "Downloaded: 2029.wav to M_F_dataset/females/2029.wav\n",
            "Downloaded: 145.wav to M_F_dataset/females/145.wav\n",
            "Downloaded: 41.wav to M_F_dataset/females/41.wav\n",
            "Downloaded: 330.wav to M_F_dataset/females/330.wav\n",
            "Downloaded: 992.wav to M_F_dataset/females/992.wav\n",
            "Downloaded: 1797.wav to M_F_dataset/females/1797.wav\n",
            "Downloaded: 867.wav to M_F_dataset/females/867.wav\n",
            "Downloaded: 1688.wav to M_F_dataset/females/1688.wav\n",
            "Downloaded: 2135.wav to M_F_dataset/females/2135.wav\n",
            "Downloaded: 363.wav to M_F_dataset/females/363.wav\n",
            "Downloaded: 111.wav to M_F_dataset/females/111.wav\n",
            "Downloaded: 173.wav to M_F_dataset/females/173.wav\n",
            "Downloaded: 1528.wav to M_F_dataset/females/1528.wav\n",
            "Downloaded: 1564.wav to M_F_dataset/females/1564.wav\n",
            "Downloaded: 1636.wav to M_F_dataset/females/1636.wav\n",
            "Downloaded: 218.wav to M_F_dataset/females/218.wav\n",
            "Downloaded: 856.wav to M_F_dataset/females/856.wav\n",
            "Downloaded: 516.wav to M_F_dataset/females/516.wav\n",
            "Downloaded: 1954.wav to M_F_dataset/females/1954.wav\n",
            "Downloaded: 2092.wav to M_F_dataset/females/2092.wav\n",
            "Downloaded: 640.wav to M_F_dataset/females/640.wav\n",
            "Downloaded: 284.wav to M_F_dataset/females/284.wav\n",
            "Downloaded: 353.wav to M_F_dataset/females/353.wav\n",
            "Downloaded: 1357.wav to M_F_dataset/females/1357.wav\n",
            "Downloaded: 365.wav to M_F_dataset/females/365.wav\n",
            "Downloaded: 2177.wav to M_F_dataset/females/2177.wav\n",
            "Downloaded: 2271.wav to M_F_dataset/females/2271.wav\n",
            "Downloaded: 203.wav to M_F_dataset/females/203.wav\n",
            "Downloaded: 2267.wav to M_F_dataset/females/2267.wav\n",
            "Downloaded: 1091.wav to M_F_dataset/females/1091.wav\n",
            "Downloaded: 996.wav to M_F_dataset/females/996.wav\n",
            "Downloaded: 1878.wav to M_F_dataset/females/1878.wav\n",
            "Downloaded: 1497.wav to M_F_dataset/females/1497.wav\n",
            "Downloaded: 904.wav to M_F_dataset/females/904.wav\n",
            "Downloaded: 1643.wav to M_F_dataset/females/1643.wav\n",
            "Downloaded: 2117.wav to M_F_dataset/females/2117.wav\n",
            "Downloaded: 1473.wav to M_F_dataset/females/1473.wav\n",
            "Downloaded: 1707.wav to M_F_dataset/females/1707.wav\n",
            "Downloaded: 1148.wav to M_F_dataset/females/1148.wav\n",
            "Downloaded: 406.wav to M_F_dataset/females/406.wav\n",
            "Downloaded: 307.wav to M_F_dataset/females/307.wav\n",
            "Downloaded: 1217.wav to M_F_dataset/females/1217.wav\n",
            "Downloaded: 879.wav to M_F_dataset/females/879.wav\n",
            "Downloaded: 198.wav to M_F_dataset/females/198.wav\n",
            "Downloaded: 172.wav to M_F_dataset/females/172.wav\n",
            "Downloaded: 1345.wav to M_F_dataset/females/1345.wav\n",
            "Downloaded: 1587.wav to M_F_dataset/females/1587.wav\n",
            "Downloaded: 747.wav to M_F_dataset/females/747.wav\n",
            "Downloaded: 925.wav to M_F_dataset/females/925.wav\n",
            "Downloaded: 2073.wav to M_F_dataset/females/2073.wav\n",
            "Downloaded: 754.wav to M_F_dataset/females/754.wav\n",
            "Downloaded: 908.wav to M_F_dataset/females/908.wav\n",
            "Downloaded: 1603.wav to M_F_dataset/females/1603.wav\n",
            "Downloaded: 228.wav to M_F_dataset/females/228.wav\n",
            "Downloaded: 1000.wav to M_F_dataset/females/1000.wav\n",
            "Downloaded: 1394.wav to M_F_dataset/females/1394.wav\n",
            "Downloaded: 1269.wav to M_F_dataset/females/1269.wav\n",
            "Downloaded: 364.wav to M_F_dataset/females/364.wav\n",
            "Downloaded: 679.wav to M_F_dataset/females/679.wav\n",
            "Downloaded: 660.wav to M_F_dataset/females/660.wav\n",
            "Downloaded: 911.wav to M_F_dataset/females/911.wav\n",
            "Downloaded: 2069.wav to M_F_dataset/females/2069.wav\n",
            "Downloaded: 1729.wav to M_F_dataset/females/1729.wav\n",
            "Downloaded: 1804.wav to M_F_dataset/females/1804.wav\n",
            "Downloaded: 319.wav to M_F_dataset/females/319.wav\n",
            "Downloaded: 2125.wav to M_F_dataset/females/2125.wav\n",
            "Downloaded: 129.wav to M_F_dataset/females/129.wav\n",
            "Downloaded: 1171.wav to M_F_dataset/females/1171.wav\n",
            "Downloaded: 1736.wav to M_F_dataset/females/1736.wav\n",
            "Downloaded: 1514.wav to M_F_dataset/females/1514.wav\n",
            "Downloaded: 502.wav to M_F_dataset/females/502.wav\n",
            "Downloaded: 15.wav to M_F_dataset/females/15.wav\n",
            "Downloaded: 539.wav to M_F_dataset/females/539.wav\n",
            "Downloaded: 1831.wav to M_F_dataset/females/1831.wav\n",
            "Downloaded: 1464.wav to M_F_dataset/females/1464.wav\n",
            "Downloaded: 1525.wav to M_F_dataset/females/1525.wav\n",
            "Downloaded: 376.wav to M_F_dataset/females/376.wav\n",
            "Downloaded: 1631.wav to M_F_dataset/females/1631.wav\n",
            "Downloaded: 419.wav to M_F_dataset/females/419.wav\n",
            "Downloaded: 220.wav to M_F_dataset/females/220.wav\n",
            "Downloaded: 1202.wav to M_F_dataset/females/1202.wav\n",
            "Downloaded: 1693.wav to M_F_dataset/females/1693.wav\n",
            "Downloaded: 562.wav to M_F_dataset/females/562.wav\n",
            "Downloaded: 1107.wav to M_F_dataset/females/1107.wav\n",
            "Downloaded: 2101.wav to M_F_dataset/females/2101.wav\n",
            "Downloaded: 1372.wav to M_F_dataset/females/1372.wav\n",
            "Downloaded: 302.wav to M_F_dataset/females/302.wav\n",
            "Downloaded: 2290.wav to M_F_dataset/females/2290.wav\n",
            "Downloaded: 1146.wav to M_F_dataset/females/1146.wav\n",
            "Downloaded: 378.wav to M_F_dataset/females/378.wav\n",
            "Downloaded: 1899.wav to M_F_dataset/females/1899.wav\n",
            "Downloaded: 1027.wav to M_F_dataset/females/1027.wav\n",
            "Downloaded: 1475.wav to M_F_dataset/females/1475.wav\n",
            "Downloaded: 475.wav to M_F_dataset/females/475.wav\n",
            "Downloaded: 1158.wav to M_F_dataset/females/1158.wav\n",
            "Downloaded: 1776.wav to M_F_dataset/females/1776.wav\n",
            "Downloaded: 2118.wav to M_F_dataset/females/2118.wav\n",
            "Downloaded: 1489.wav to M_F_dataset/females/1489.wav\n",
            "Downloaded: 1138.wav to M_F_dataset/females/1138.wav\n",
            "Downloaded: 604.wav to M_F_dataset/females/604.wav\n",
            "Downloaded: 1066.wav to M_F_dataset/females/1066.wav\n",
            "Downloaded: 1561.wav to M_F_dataset/females/1561.wav\n",
            "Downloaded: 394.wav to M_F_dataset/females/394.wav\n",
            "Downloaded: 2024.wav to M_F_dataset/females/2024.wav\n",
            "Downloaded: 1583.wav to M_F_dataset/females/1583.wav\n",
            "Downloaded: 588.wav to M_F_dataset/females/588.wav\n",
            "Downloaded: 902.wav to M_F_dataset/females/902.wav\n",
            "Downloaded: 2154.wav to M_F_dataset/females/2154.wav\n",
            "Downloaded: 2055.wav to M_F_dataset/females/2055.wav\n",
            "Downloaded: 61.wav to M_F_dataset/females/61.wav\n",
            "Downloaded: 1097.wav to M_F_dataset/females/1097.wav\n",
            "Downloaded: 55.wav to M_F_dataset/females/55.wav\n",
            "Downloaded: 442.wav to M_F_dataset/females/442.wav\n",
            "Downloaded: 2306.wav to M_F_dataset/females/2306.wav\n",
            "Downloaded: 2225.wav to M_F_dataset/females/2225.wav\n",
            "Downloaded: 372.wav to M_F_dataset/females/372.wav\n",
            "Downloaded: 170.wav to M_F_dataset/females/170.wav\n",
            "Downloaded: 1867.wav to M_F_dataset/females/1867.wav\n",
            "Downloaded: 300.wav to M_F_dataset/females/300.wav\n",
            "Downloaded: 165.wav to M_F_dataset/females/165.wav\n",
            "Downloaded: 2246.wav to M_F_dataset/females/2246.wav\n",
            "Downloaded: 542.wav to M_F_dataset/females/542.wav\n",
            "Downloaded: 790.wav to M_F_dataset/females/790.wav\n",
            "Downloaded: 8.wav to M_F_dataset/females/8.wav\n",
            "Downloaded: 487.wav to M_F_dataset/females/487.wav\n",
            "Downloaded: 608.wav to M_F_dataset/females/608.wav\n",
            "Downloaded: 39.wav to M_F_dataset/females/39.wav\n",
            "Downloaded: 1204.wav to M_F_dataset/females/1204.wav\n",
            "Downloaded: 3.wav to M_F_dataset/females/3.wav\n",
            "Downloaded: 751.wav to M_F_dataset/females/751.wav\n",
            "Downloaded: 1829.wav to M_F_dataset/females/1829.wav\n",
            "Downloaded: 1235.wav to M_F_dataset/females/1235.wav\n",
            "Downloaded: 630.wav to M_F_dataset/females/630.wav\n",
            "Downloaded: 1721.wav to M_F_dataset/females/1721.wav\n",
            "Downloaded: 1215.wav to M_F_dataset/females/1215.wav\n",
            "Downloaded: 771.wav to M_F_dataset/females/771.wav\n",
            "Downloaded: 1266.wav to M_F_dataset/females/1266.wav\n",
            "Downloaded: 965.wav to M_F_dataset/females/965.wav\n",
            "Downloaded: 1789.wav to M_F_dataset/females/1789.wav\n",
            "Downloaded: 2155.wav to M_F_dataset/females/2155.wav\n",
            "Downloaded: 1365.wav to M_F_dataset/females/1365.wav\n",
            "Downloaded: 50.wav to M_F_dataset/females/50.wav\n",
            "Downloaded: 501.wav to M_F_dataset/females/501.wav\n",
            "Downloaded: 864.wav to M_F_dataset/females/864.wav\n",
            "Downloaded: 1296.wav to M_F_dataset/females/1296.wav\n",
            "Downloaded: 2146.wav to M_F_dataset/females/2146.wav\n",
            "Downloaded: 1517.wav to M_F_dataset/females/1517.wav\n",
            "Downloaded: 732.wav to M_F_dataset/females/732.wav\n",
            "Downloaded: 1395.wav to M_F_dataset/females/1395.wav\n",
            "Downloaded: 2207.wav to M_F_dataset/females/2207.wav\n",
            "Downloaded: 2151.wav to M_F_dataset/females/2151.wav\n",
            "Downloaded: 1785.wav to M_F_dataset/females/1785.wav\n",
            "Downloaded: 661.wav to M_F_dataset/females/661.wav\n",
            "Downloaded: 1376.wav to M_F_dataset/females/1376.wav\n",
            "Downloaded: 32.wav to M_F_dataset/females/32.wav\n",
            "Downloaded: 981.wav to M_F_dataset/females/981.wav\n",
            "Downloaded: 1671.wav to M_F_dataset/females/1671.wav\n",
            "Downloaded: 1992.wav to M_F_dataset/females/1992.wav\n",
            "Downloaded: 1913.wav to M_F_dataset/females/1913.wav\n",
            "Downloaded: 303.wav to M_F_dataset/females/303.wav\n",
            "Downloaded: 1495.wav to M_F_dataset/females/1495.wav\n",
            "Downloaded: 2105.wav to M_F_dataset/females/2105.wav\n",
            "Downloaded: 333.wav to M_F_dataset/females/333.wav\n",
            "Downloaded: 2128.wav to M_F_dataset/females/2128.wav\n",
            "Downloaded: 2094.wav to M_F_dataset/females/2094.wav\n",
            "Downloaded: 122.wav to M_F_dataset/females/122.wav\n",
            "Downloaded: 2147.wav to M_F_dataset/females/2147.wav\n",
            "Downloaded: 1109.wav to M_F_dataset/females/1109.wav\n",
            "Downloaded: 167.wav to M_F_dataset/females/167.wav\n",
            "Downloaded: 658.wav to M_F_dataset/females/658.wav\n",
            "Downloaded: 1601.wav to M_F_dataset/females/1601.wav\n",
            "Downloaded: 6.wav to M_F_dataset/females/6.wav\n",
            "Downloaded: 564.wav to M_F_dataset/females/564.wav\n",
            "Downloaded: 692.wav to M_F_dataset/females/692.wav\n",
            "Downloaded: 2220.wav to M_F_dataset/females/2220.wav\n",
            "Downloaded: 601.wav to M_F_dataset/females/601.wav\n",
            "Downloaded: 995.wav to M_F_dataset/females/995.wav\n",
            "Downloaded: 565.wav to M_F_dataset/females/565.wav\n",
            "Downloaded: 730.wav to M_F_dataset/females/730.wav\n",
            "Downloaded: 2136.wav to M_F_dataset/females/2136.wav\n",
            "Downloaded: 905.wav to M_F_dataset/females/905.wav\n",
            "Downloaded: 1810.wav to M_F_dataset/females/1810.wav\n",
            "Downloaded: 2123.wav to M_F_dataset/females/2123.wav\n",
            "Downloaded: 2171.wav to M_F_dataset/females/2171.wav\n",
            "Downloaded: 1848.wav to M_F_dataset/females/1848.wav\n",
            "Downloaded: 1388.wav to M_F_dataset/females/1388.wav\n",
            "Downloaded: 1304.wav to M_F_dataset/females/1304.wav\n",
            "Downloaded: 4.wav to M_F_dataset/females/4.wav\n",
            "Downloaded: 1374.wav to M_F_dataset/females/1374.wav\n",
            "Downloaded: 1963.wav to M_F_dataset/females/1963.wav\n",
            "Downloaded: 2309.wav to M_F_dataset/females/2309.wav\n",
            "Downloaded: 98.wav to M_F_dataset/females/98.wav\n",
            "Downloaded: 748.wav to M_F_dataset/females/748.wav\n",
            "Downloaded: 2286.wav to M_F_dataset/females/2286.wav\n",
            "Downloaded: 1500.wav to M_F_dataset/females/1500.wav\n",
            "Downloaded: 1281.wav to M_F_dataset/females/1281.wav\n",
            "Downloaded: 610.wav to M_F_dataset/females/610.wav\n",
            "Downloaded: 1116.wav to M_F_dataset/females/1116.wav\n",
            "Downloaded: 2141.wav to M_F_dataset/females/2141.wav\n",
            "Downloaded: 1817.wav to M_F_dataset/females/1817.wav\n",
            "Downloaded: 1566.wav to M_F_dataset/females/1566.wav\n",
            "Downloaded: 1150.wav to M_F_dataset/females/1150.wav\n",
            "Downloaded: 1513.wav to M_F_dataset/females/1513.wav\n",
            "Downloaded: 2193.wav to M_F_dataset/females/2193.wav\n",
            "Downloaded: 846.wav to M_F_dataset/females/846.wav\n",
            "Downloaded: 2249.wav to M_F_dataset/females/2249.wav\n",
            "Downloaded: 346.wav to M_F_dataset/females/346.wav\n",
            "Downloaded: 1445.wav to M_F_dataset/females/1445.wav\n",
            "Downloaded: 1118.wav to M_F_dataset/females/1118.wav\n",
            "Downloaded: 1129.wav to M_F_dataset/females/1129.wav\n",
            "Downloaded: 1597.wav to M_F_dataset/females/1597.wav\n",
            "Downloaded: 1037.wav to M_F_dataset/females/1037.wav\n",
            "Downloaded: 1369.wav to M_F_dataset/females/1369.wav\n"
          ]
        }
      ],
      "source": [
        "AUDIO_PATH = \"M_F_dataset\"\n",
        "SAMPLE_RATE = 16000\n",
        "MFCC_FEATURES = 40\n",
        "MAX_AUDIO_FILES = 500\n",
        "MAX_FILES_PER_GENDER = MAX_AUDIO_FILES // 2\n",
        "\n",
        "os.makedirs(AUDIO_PATH, exist_ok=True)\n",
        "\n",
        "def download_audio_from_dagshub():\n",
        "    try:\n",
        "        fs = DagsHubFilesystem(\".\", repo_url=\"https://dagshub.com/DagsHub-Datasets/voice_gender_detection\")\n",
        "        if not os.path.exists(AUDIO_PATH):\n",
        "            os.makedirs(AUDIO_PATH)\n",
        "\n",
        "        for gender in [\"males\", \"females\"]:\n",
        "            gender_path = os.path.join(AUDIO_PATH, gender)\n",
        "            os.makedirs(gender_path, exist_ok=True)\n",
        "            count = 0\n",
        "            for file_name in fs.listdir(gender):\n",
        "                if count >= MAX_FILES_PER_GENDER:\n",
        "                    break\n",
        "                source_path = os.path.join(gender, file_name)\n",
        "                target_path = os.path.join(gender_path, file_name)\n",
        "                with fs.open(source_path, \"rb\") as src_file:\n",
        "                    with open(target_path, \"wb\") as dst_file:\n",
        "                        shutil.copyfileobj(src_file, dst_file)\n",
        "                count += 1\n",
        "                print(f\"Downloaded: {file_name} to {target_path}\")\n",
        "    except Exception as e:\n",
        "        print(f\"Error downloading audio files: {e}\")\n",
        "\n",
        "download_audio_from_dagshub()"
      ]
    },
    {
      "cell_type": "markdown",
      "source": [
        "# Препроцессинг"
      ],
      "metadata": {
        "id": "0j4spJEIU3yc"
      }
    },
    {
      "cell_type": "markdown",
      "source": [
        "Датасет состоит из разговора мужчин и разговора женщин. Задача данной лабы - построить модель, которая научится определять пол говорящего человека.\n",
        "\n",
        "У аудиофайлов уже есть разметка: они лежат в двух папках, название которых соответствую полу говорящего человека."
      ],
      "metadata": {
        "id": "HDJuzfHg6uUy"
      }
    },
    {
      "cell_type": "code",
      "source": [
        "datadir = \"M_F_dataset\"\n",
        "\n",
        "mfcc_features = []\n",
        "labels = []\n",
        "\n",
        "for gender in os.listdir(datadir):\n",
        "    gender_path = os.path.join(datadir, gender)\n",
        "\n",
        "    if os.path.isdir(gender_path):\n",
        "\n",
        "        for file_name in os.listdir(gender_path):\n",
        "            file_path = os.path.join(gender_path, file_name)\n",
        "\n",
        "            if os.path.isfile(file_path):\n",
        "                try:\n",
        "                    file, sr = librosa.load(file_path, sr=None)\n",
        "                    mfcc = librosa.feature.mfcc(y=file, sr=sr, n_mfcc=40)\n",
        "                    mfcc_mean = np.mean(mfcc, axis=1)\n",
        "                    mfcc_features.append(mfcc.T)\n",
        "                    labels.append(gender)\n",
        "                except Exception as e:\n",
        "                    print(f\"Ошибка в обработке {file_path}: {e}\")\n",
        "\n",
        "#mfcc_features= np.array(mfcc_features)\n",
        "labels = np.array(labels)\n",
        "\n",
        "#print(f\"Собрано эмбеддингов: {mfcc_features.shape[0]}\")\n",
        "print(f\"Примеры меток: {set(labels)}\")"
      ],
      "metadata": {
        "colab": {
          "base_uri": "https://localhost:8080/"
        },
        "id": "DrcleNIC2leS",
        "outputId": "46e33466-6cb0-46f8-a6f1-556212821b7a"
      },
      "execution_count": 10,
      "outputs": [
        {
          "output_type": "stream",
          "name": "stdout",
          "text": [
            "Примеры меток: {'males', 'females'}\n"
          ]
        }
      ]
    },
    {
      "cell_type": "code",
      "source": [
        "#np.save(\"mfcc_features.npy\", mfcc_features)\n",
        "np.save(\"labels.npy\", labels)"
      ],
      "metadata": {
        "id": "h-NEl1Vq8Rli",
        "collapsed": true
      },
      "execution_count": 11,
      "outputs": []
    },
    {
      "cell_type": "markdown",
      "source": [
        "Возьмем задачу реализации LTSM модели.Преобразуем метки в числовой формат, приведем последовательности к одинаковой длине, преобразуем метки в one-hot encoding"
      ],
      "metadata": {
        "id": "dWG6rsdV-vAF"
      }
    },
    {
      "cell_type": "code",
      "source": [
        "max_seq_length = min(max([mfcc.shape[0] for mfcc in mfcc_features]), 100)\n",
        "\n",
        "#X = pad_sequences(mfcc_features, maxlen=max_seq_length, padding=\"post\", dtype=\"float32\")\n",
        "\n",
        "#unique_labels = list(set(labels))\n",
        "#label_to_index = {label: i for i, label in enumerate(unique_labels)}\n",
        "#y = np.array([label_to_index[label] for label in labels])\n",
        "\n",
        "#X_train, X_val, y_train, y_val = train_test_split(\n",
        "#    X, y, test_size=0.19, random_state=42, stratify=y\n",
        "#)\n",
        "\n",
        "#y_train = to_categorical(y_train, num_classes=len(unique_labels))\n",
        "#y_val = to_categorical(y_val, num_classes=len(unique_labels))\n",
        "\n",
        "print(f\"X_train.shape = {X_train.shape}\")\n",
        "print(f\"X_val.shape = {X_val.shape}\")"
      ],
      "metadata": {
        "colab": {
          "base_uri": "https://localhost:8080/"
        },
        "id": "di5FA_5x-2jI",
        "outputId": "b5ff27d3-5788-46f2-d220-77211f06d8ef"
      },
      "execution_count": 12,
      "outputs": [
        {
          "output_type": "stream",
          "name": "stdout",
          "text": [
            "X_train.shape = (405, 100, 40)\n",
            "X_val.shape = (95, 100, 40)\n"
          ]
        }
      ]
    },
    {
      "cell_type": "code",
      "source": [
        "from collections import Counter\n",
        "print(Counter(labels))"
      ],
      "metadata": {
        "colab": {
          "base_uri": "https://localhost:8080/"
        },
        "id": "LzA89AblRNFr",
        "outputId": "b139b0d2-13a8-4af6-baac-324cba045156"
      },
      "execution_count": 13,
      "outputs": [
        {
          "output_type": "stream",
          "name": "stdout",
          "text": [
            "Counter({'males': 250, 'females': 250})\n"
          ]
        }
      ]
    },
    {
      "cell_type": "code",
      "source": [
        "from tensorflow.keras.preprocessing.sequence import pad_sequences\n",
        "\n",
        "max_seq_length = min(max([mfcc.shape[0] for mfcc in mfcc_features]), 100)\n",
        "#X = pad_sequences(mfcc_features, maxlen=max_seq_length, padding=\"post\", dtype=\"float32\")\n",
        "\n",
        "unique_labels = list(set(labels))\n",
        "label_to_index = {label: i for i, label in enumerate(unique_labels)}\n",
        "#y = np.array([label_to_index[label] for label in labels])\n",
        "\n",
        "#X_train, X_val, y_train, y_val = train_test_split(\n",
        "#    X, y, test_size=0.19, random_state=42, stratify=y\n",
        "#)\n",
        "\n",
        "#y_train = to_categorical(y_train, num_classes=len(unique_labels))\n",
        "#y_val = to_categorical(y_val, num_classes=len(unique_labels))\n",
        "\n",
        "print(f\"X_train.shape = {X_train.shape}\")\n",
        "print(f\"X_val.shape = {X_val.shape}\")"
      ],
      "metadata": {
        "colab": {
          "base_uri": "https://localhost:8080/"
        },
        "id": "9wuB3DtxW95N",
        "outputId": "77279bb4-d5d7-4445-e654-f6dbfa469ac4"
      },
      "execution_count": 14,
      "outputs": [
        {
          "output_type": "stream",
          "name": "stdout",
          "text": [
            "X_train.shape = (405, 100, 40)\n",
            "X_val.shape = (95, 100, 40)\n"
          ]
        }
      ]
    },
    {
      "cell_type": "markdown",
      "source": [
        "# Реализация модели и ее обучение"
      ],
      "metadata": {
        "id": "D9NwPto9WJ2Q"
      }
    },
    {
      "cell_type": "code",
      "source": [
        "n_mfcc = 40\n",
        "input_dim = n_mfcc\n",
        "num_classes = len(unique_labels)"
      ],
      "metadata": {
        "id": "8axuBDPBGLfc"
      },
      "execution_count": 66,
      "outputs": []
    },
    {
      "cell_type": "markdown",
      "source": [
        "______________________________________________________________________________________________________________________________"
      ],
      "metadata": {
        "id": "5CzWvggMXa9q"
      }
    },
    {
      "cell_type": "code",
      "source": [
        "X = pad_sequences(mfcc_features, maxlen=max_seq_length, padding=\"post\", dtype=\"float32\")\n",
        "y = np.array([label_to_index[label] for label in labels])\n",
        "\n",
        "X_train, X_val, y_train, y_val = train_test_split(\n",
        "    X, y, test_size=0.19, random_state=42, stratify=y\n",
        ")\n",
        "\n",
        "y_train = torch.tensor(y_train, dtype=torch.float32)\n",
        "y_val = torch.tensor(y_val, dtype=torch.float32)\n",
        "\n",
        "train_dataset = TensorDataset(torch.tensor(X_train, dtype=torch.float32), y_train)\n",
        "val_dataset = TensorDataset(torch.tensor(X_val, dtype=torch.float32), y_val)\n",
        "\n",
        "train_loader = DataLoader(train_dataset, batch_size=32, shuffle=True)\n",
        "val_loader = DataLoader(val_dataset, batch_size=32, shuffle=False)\n",
        "\n",
        "class AudioClassifier(nn.Module):\n",
        "    def __init__(self, input_dim, hidden_dim):\n",
        "        super(AudioClassifier, self).__init__()\n",
        "        self.lstm = nn.LSTM(input_dim, hidden_dim, batch_first=True)\n",
        "        self.dropout1 = nn.Dropout(0.05)\n",
        "        self.fc1 = nn.Linear(hidden_dim, hidden_dim)\n",
        "        self.dropout2 = nn.Dropout(0.1)\n",
        "        self.fc2 = nn.Linear(hidden_dim, 1)\n",
        "\n",
        "    def forward(self, x):\n",
        "        lstm_out, (hidden, _) = self.lstm(x)\n",
        "        hidden = hidden[-1]\n",
        "        x = self.dropout1(hidden)\n",
        "        x = self.fc1(x)\n",
        "        x = torch.relu(x)\n",
        "        x = self.dropout2(x)\n",
        "        x = self.fc2(x)\n",
        "        return x\n",
        "\n",
        "    def extract_embeddings(self, x):\n",
        "        lstm_out, (hidden, _) = self.lstm(x)\n",
        "        hidden = hidden[-1]\n",
        "        x = self.fc1(hidden)\n",
        "        return torch.relu(x)\n",
        "\n",
        "hidden_dim = 64\n",
        "model = AudioClassifier(input_dim, num_classes)\n",
        "optimizer = optim.Adam(model.parameters(), lr=0.001)\n",
        "criterion = nn.BCEWithLogitsLoss()\n"
      ],
      "metadata": {
        "id": "qPoNEj-4XdTw"
      },
      "execution_count": 75,
      "outputs": []
    },
    {
      "cell_type": "code",
      "source": [
        "def train(model, train_loader, optimizer, criterion, device):\n",
        "    model.train()\n",
        "    running_loss = 0.0\n",
        "    correct_predictions = 0\n",
        "    total_samples = 0\n",
        "\n",
        "    for X_batch, y_batch in train_loader:\n",
        "        X_batch = X_batch.to(device)\n",
        "        y_batch = y_batch.to(device)\n",
        "        optimizer.zero_grad()\n",
        "\n",
        "        outputs = model(X_batch).view(-1)\n",
        "        loss = criterion(outputs, y_batch)\n",
        "        loss.backward()\n",
        "        optimizer.step()\n",
        "\n",
        "        running_loss += loss.item() * X_batch.size(0)\n",
        "        predicted = (torch.sigmoid(outputs) > 0.5).float()  #логиты в бинарные предсказания\n",
        "        correct_predictions += (predicted == y_batch).sum().item()\n",
        "        total_samples += y_batch.size(0)\n",
        "\n",
        "    avg_loss = running_loss / total_samples\n",
        "    accuracy = correct_predictions / total_samples\n",
        "    return avg_loss, accuracy\n",
        "\n",
        "\n",
        "def test(model, val_loader, criterion, device):\n",
        "    model.eval()\n",
        "    running_loss = 0.0\n",
        "    correct_predictions = 0\n",
        "    total_samples = 0\n",
        "\n",
        "    with torch.no_grad():\n",
        "        for X_batch, y_batch in val_loader:\n",
        "            X_batch = X_batch.to(device)\n",
        "            y_batch = y_batch.to(device)\n",
        "\n",
        "            outputs = model(X_batch).view(-1)\n",
        "            loss = criterion(outputs, y_batch)\n",
        "\n",
        "            running_loss += loss.item() * X_batch.size(0)\n",
        "            predicted = (torch.sigmoid(outputs) > 0.5).float()\n",
        "            correct_predictions += (predicted == y_batch).sum().item()\n",
        "            total_samples += y_batch.size(0)\n",
        "\n",
        "    avg_loss = running_loss / total_samples\n",
        "    accuracy = correct_predictions / total_samples\n",
        "    return avg_loss, accuracy\n"
      ],
      "metadata": {
        "id": "mz6ExaNrXpHP"
      },
      "execution_count": 73,
      "outputs": []
    },
    {
      "cell_type": "code",
      "source": [
        "device = torch.device(\"cuda\" if torch.cuda.is_available() else \"cpu\")\n",
        "model = AudioClassifier(input_dim=n_mfcc, hidden_dim=64).to(device)\n",
        "\n",
        "optimizer = optim.Adam(model.parameters(), lr=0.001)\n",
        "criterion = nn.BCEWithLogitsLoss()\n",
        "\n",
        "num_epochs = 40\n",
        "for epoch in range(num_epochs):\n",
        "    train_loss, train_accuracy = train(model, train_loader, optimizer, criterion, device)\n",
        "    val_loss, val_accuracy = test(model, val_loader, criterion, device)\n",
        "\n",
        "    print(\"-------------------------------------------------------------------------------------------\")\n",
        "    print(f\"Epoch {epoch + 1}/{num_epochs}:\")\n",
        "    print(f\"Train Loss: {train_loss:.4f}, Train Accuracy: {train_accuracy:.4f}\")\n",
        "    print(f\"Val Loss: {val_loss:.4f}, Val Accuracy: {val_accuracy:.4f}\")\n"
      ],
      "metadata": {
        "colab": {
          "base_uri": "https://localhost:8080/"
        },
        "id": "V4PZF96CXtac",
        "outputId": "2494f003-79bd-428d-89b3-c6840cb34767"
      },
      "execution_count": 76,
      "outputs": [
        {
          "output_type": "stream",
          "name": "stdout",
          "text": [
            "-------------------------------------------------------------------------------------------\n",
            "Epoch 1/40:\n",
            "Train Loss: 0.6901, Train Accuracy: 0.4889\n",
            "Val Loss: 0.6867, Val Accuracy: 0.5789\n",
            "-------------------------------------------------------------------------------------------\n",
            "Epoch 2/40:\n",
            "Train Loss: 0.6731, Train Accuracy: 0.6765\n",
            "Val Loss: 0.6779, Val Accuracy: 0.6316\n",
            "-------------------------------------------------------------------------------------------\n",
            "Epoch 3/40:\n",
            "Train Loss: 0.6545, Train Accuracy: 0.7160\n",
            "Val Loss: 0.6621, Val Accuracy: 0.6421\n",
            "-------------------------------------------------------------------------------------------\n",
            "Epoch 4/40:\n",
            "Train Loss: 0.6158, Train Accuracy: 0.8049\n",
            "Val Loss: 0.6301, Val Accuracy: 0.7579\n",
            "-------------------------------------------------------------------------------------------\n",
            "Epoch 5/40:\n",
            "Train Loss: 0.5638, Train Accuracy: 0.8321\n",
            "Val Loss: 0.5958, Val Accuracy: 0.7263\n",
            "-------------------------------------------------------------------------------------------\n",
            "Epoch 6/40:\n",
            "Train Loss: 0.4865, Train Accuracy: 0.8864\n",
            "Val Loss: 0.5421, Val Accuracy: 0.7789\n",
            "-------------------------------------------------------------------------------------------\n",
            "Epoch 7/40:\n",
            "Train Loss: 0.3878, Train Accuracy: 0.9086\n",
            "Val Loss: 0.4839, Val Accuracy: 0.8105\n",
            "-------------------------------------------------------------------------------------------\n",
            "Epoch 8/40:\n",
            "Train Loss: 0.3020, Train Accuracy: 0.9284\n",
            "Val Loss: 0.4572, Val Accuracy: 0.7895\n",
            "-------------------------------------------------------------------------------------------\n",
            "Epoch 9/40:\n",
            "Train Loss: 0.2344, Train Accuracy: 0.9383\n",
            "Val Loss: 0.4378, Val Accuracy: 0.7684\n",
            "-------------------------------------------------------------------------------------------\n",
            "Epoch 10/40:\n",
            "Train Loss: 0.1924, Train Accuracy: 0.9432\n",
            "Val Loss: 0.3978, Val Accuracy: 0.8316\n",
            "-------------------------------------------------------------------------------------------\n",
            "Epoch 11/40:\n",
            "Train Loss: 0.1560, Train Accuracy: 0.9556\n",
            "Val Loss: 0.3588, Val Accuracy: 0.8526\n",
            "-------------------------------------------------------------------------------------------\n",
            "Epoch 12/40:\n",
            "Train Loss: 0.1169, Train Accuracy: 0.9654\n",
            "Val Loss: 0.3613, Val Accuracy: 0.8316\n",
            "-------------------------------------------------------------------------------------------\n",
            "Epoch 13/40:\n",
            "Train Loss: 0.1037, Train Accuracy: 0.9654\n",
            "Val Loss: 0.4355, Val Accuracy: 0.8421\n",
            "-------------------------------------------------------------------------------------------\n",
            "Epoch 14/40:\n",
            "Train Loss: 0.0929, Train Accuracy: 0.9728\n",
            "Val Loss: 0.3701, Val Accuracy: 0.8316\n",
            "-------------------------------------------------------------------------------------------\n",
            "Epoch 15/40:\n",
            "Train Loss: 0.0769, Train Accuracy: 0.9778\n",
            "Val Loss: 0.4179, Val Accuracy: 0.8526\n",
            "-------------------------------------------------------------------------------------------\n",
            "Epoch 16/40:\n",
            "Train Loss: 0.0686, Train Accuracy: 0.9802\n",
            "Val Loss: 0.4124, Val Accuracy: 0.8105\n",
            "-------------------------------------------------------------------------------------------\n",
            "Epoch 17/40:\n",
            "Train Loss: 0.0569, Train Accuracy: 0.9852\n",
            "Val Loss: 0.4519, Val Accuracy: 0.8211\n",
            "-------------------------------------------------------------------------------------------\n",
            "Epoch 18/40:\n",
            "Train Loss: 0.0510, Train Accuracy: 0.9852\n",
            "Val Loss: 0.4380, Val Accuracy: 0.8211\n",
            "-------------------------------------------------------------------------------------------\n",
            "Epoch 19/40:\n",
            "Train Loss: 0.0470, Train Accuracy: 0.9852\n",
            "Val Loss: 0.4601, Val Accuracy: 0.8526\n",
            "-------------------------------------------------------------------------------------------\n",
            "Epoch 20/40:\n",
            "Train Loss: 0.0450, Train Accuracy: 0.9877\n",
            "Val Loss: 0.4435, Val Accuracy: 0.8316\n",
            "-------------------------------------------------------------------------------------------\n",
            "Epoch 21/40:\n",
            "Train Loss: 0.0391, Train Accuracy: 0.9901\n",
            "Val Loss: 0.4644, Val Accuracy: 0.8421\n",
            "-------------------------------------------------------------------------------------------\n",
            "Epoch 22/40:\n",
            "Train Loss: 0.0303, Train Accuracy: 0.9877\n",
            "Val Loss: 0.4889, Val Accuracy: 0.8421\n",
            "-------------------------------------------------------------------------------------------\n",
            "Epoch 23/40:\n",
            "Train Loss: 0.0269, Train Accuracy: 0.9951\n",
            "Val Loss: 0.4673, Val Accuracy: 0.8421\n",
            "-------------------------------------------------------------------------------------------\n",
            "Epoch 24/40:\n",
            "Train Loss: 0.0244, Train Accuracy: 0.9951\n",
            "Val Loss: 0.5073, Val Accuracy: 0.8421\n",
            "-------------------------------------------------------------------------------------------\n",
            "Epoch 25/40:\n",
            "Train Loss: 0.0226, Train Accuracy: 0.9951\n",
            "Val Loss: 0.4971, Val Accuracy: 0.8316\n",
            "-------------------------------------------------------------------------------------------\n",
            "Epoch 26/40:\n",
            "Train Loss: 0.0209, Train Accuracy: 0.9951\n",
            "Val Loss: 0.4947, Val Accuracy: 0.8421\n",
            "-------------------------------------------------------------------------------------------\n",
            "Epoch 27/40:\n",
            "Train Loss: 0.0248, Train Accuracy: 0.9951\n",
            "Val Loss: 0.5392, Val Accuracy: 0.8421\n",
            "-------------------------------------------------------------------------------------------\n",
            "Epoch 28/40:\n",
            "Train Loss: 0.0173, Train Accuracy: 0.9951\n",
            "Val Loss: 0.4728, Val Accuracy: 0.8421\n",
            "-------------------------------------------------------------------------------------------\n",
            "Epoch 29/40:\n",
            "Train Loss: 0.0159, Train Accuracy: 0.9975\n",
            "Val Loss: 0.4938, Val Accuracy: 0.8526\n",
            "-------------------------------------------------------------------------------------------\n",
            "Epoch 30/40:\n",
            "Train Loss: 0.0183, Train Accuracy: 0.9951\n",
            "Val Loss: 0.5109, Val Accuracy: 0.8421\n",
            "-------------------------------------------------------------------------------------------\n",
            "Epoch 31/40:\n",
            "Train Loss: 0.0131, Train Accuracy: 0.9975\n",
            "Val Loss: 0.5011, Val Accuracy: 0.8526\n",
            "-------------------------------------------------------------------------------------------\n",
            "Epoch 32/40:\n",
            "Train Loss: 0.0104, Train Accuracy: 0.9975\n",
            "Val Loss: 0.4951, Val Accuracy: 0.8526\n",
            "-------------------------------------------------------------------------------------------\n",
            "Epoch 33/40:\n",
            "Train Loss: 0.0137, Train Accuracy: 0.9975\n",
            "Val Loss: 0.5101, Val Accuracy: 0.8526\n",
            "-------------------------------------------------------------------------------------------\n",
            "Epoch 34/40:\n",
            "Train Loss: 0.0169, Train Accuracy: 0.9951\n",
            "Val Loss: 0.5421, Val Accuracy: 0.8632\n",
            "-------------------------------------------------------------------------------------------\n",
            "Epoch 35/40:\n",
            "Train Loss: 0.0133, Train Accuracy: 0.9975\n",
            "Val Loss: 0.5207, Val Accuracy: 0.8632\n",
            "-------------------------------------------------------------------------------------------\n",
            "Epoch 36/40:\n",
            "Train Loss: 0.0124, Train Accuracy: 0.9951\n",
            "Val Loss: 0.5661, Val Accuracy: 0.8526\n",
            "-------------------------------------------------------------------------------------------\n",
            "Epoch 37/40:\n",
            "Train Loss: 0.0100, Train Accuracy: 0.9975\n",
            "Val Loss: 0.5885, Val Accuracy: 0.8526\n",
            "-------------------------------------------------------------------------------------------\n",
            "Epoch 38/40:\n",
            "Train Loss: 0.0110, Train Accuracy: 0.9951\n",
            "Val Loss: 0.5380, Val Accuracy: 0.8632\n",
            "-------------------------------------------------------------------------------------------\n",
            "Epoch 39/40:\n",
            "Train Loss: 0.0068, Train Accuracy: 0.9975\n",
            "Val Loss: 0.5555, Val Accuracy: 0.8737\n",
            "-------------------------------------------------------------------------------------------\n",
            "Epoch 40/40:\n",
            "Train Loss: 0.0053, Train Accuracy: 1.0000\n",
            "Val Loss: 0.5725, Val Accuracy: 0.8737\n"
          ]
        }
      ]
    },
    {
      "cell_type": "markdown",
      "source": [
        "# Получение эмбеддингов и визуализация"
      ],
      "metadata": {
        "id": "7pSvhrLObTS-"
      }
    },
    {
      "cell_type": "code",
      "source": [
        "def get_embeddings(model, loader, device):\n",
        "    model.eval()\n",
        "    embeddings = []\n",
        "    labels = []\n",
        "\n",
        "    with torch.no_grad():\n",
        "        for X_batch, y_batch in loader:\n",
        "            X_batch = X_batch.to(device)\n",
        "            embedding = model.extract_embeddings(X_batch)\n",
        "            embeddings.append(embedding.cpu().numpy())\n",
        "            labels.append(y_batch.cpu().numpy())\n",
        "\n",
        "    embeddings = np.vstack(embeddings)\n",
        "    labels = np.hstack(labels)\n",
        "    return embeddings, labels\n",
        "\n",
        "train_embeddings, train_labels = get_embeddings(model, train_loader, device)\n",
        "val_embeddings, val_labels = get_embeddings(model, val_loader, device)"
      ],
      "metadata": {
        "id": "wD0iodAiaqqw"
      },
      "execution_count": 77,
      "outputs": []
    },
    {
      "cell_type": "markdown",
      "source": [
        "**t-SNE для снижения размерности**"
      ],
      "metadata": {
        "id": "-CMfTPMleR1v"
      }
    },
    {
      "cell_type": "code",
      "source": [
        "def visualize_embeddings_tsne(embeddings, labels, title):\n",
        "    tsne = TSNE(n_components=2, random_state=42)\n",
        "    reduced_embeddings = tsne.fit_transform(embeddings)\n",
        "\n",
        "    plt.figure(figsize=(10, 8))\n",
        "    sns.scatterplot(\n",
        "        x=reduced_embeddings[:, 0],\n",
        "        y=reduced_embeddings[:, 1],\n",
        "        hue=labels,\n",
        "        palette=\"tab10\",\n",
        "        legend=\"full\"\n",
        "    )\n",
        "    plt.title(title)\n",
        "    plt.show()"
      ],
      "metadata": {
        "id": "BAfa8NBcavbA"
      },
      "execution_count": 88,
      "outputs": []
    },
    {
      "cell_type": "code",
      "source": [
        "visualize_embeddings_tsne(train_embeddings, train_labels, title=\"t-SNE (Train)\")"
      ],
      "metadata": {
        "colab": {
          "base_uri": "https://localhost:8080/",
          "height": 699
        },
        "id": "9OF4wsqJcC20",
        "outputId": "fb6a74f6-342a-4fec-b61c-5320e20723d0"
      },
      "execution_count": 89,
      "outputs": [
        {
          "output_type": "display_data",
          "data": {
            "text/plain": [
              "<Figure size 1000x800 with 1 Axes>"
            ],
            "image/png": "[encoded data removed]"
          },
          "metadata": {}
        }
      ]
    },
    {
      "cell_type": "markdown",
      "source": [
        "**UMAP для снижения размерности**"
      ],
      "metadata": {
        "id": "5kOhXY-XfCyb"
      }
    },
    {
      "cell_type": "code",
      "source": [
        "def visualize_embeddings_umap(embeddings, labels, title):\n",
        "    reducer = umap.UMAP(random_state=42)\n",
        "    reduced_embeddings = reducer.fit_transform(embeddings)\n",
        "\n",
        "    plt.figure(figsize=(10, 8))\n",
        "    sns.scatterplot(\n",
        "        x=reduced_embeddings[:, 0],\n",
        "        y=reduced_embeddings[:, 1],\n",
        "        hue=labels,\n",
        "        palette=\"tab10\",\n",
        "        legend=\"full\"\n",
        "    )\n",
        "    plt.title(title)\n",
        "    plt.show()"
      ],
      "metadata": {
        "id": "aKzQe25Ya9a2"
      },
      "execution_count": 90,
      "outputs": []
    },
    {
      "cell_type": "code",
      "source": [
        "visualize_embeddings_umap(train_embeddings, train_labels, title=\"UMAP (Train)\")"
      ],
      "metadata": {
        "colab": {
          "base_uri": "https://localhost:8080/",
          "height": 768
        },
        "id": "m2HooABEbAxK",
        "outputId": "f811fce2-de0a-4319-a51b-849b3a463e8d"
      },
      "execution_count": 91,
      "outputs": [
        {
          "output_type": "stream",
          "name": "stderr",
          "text": [
            "/usr/local/lib/python3.10/dist-packages/sklearn/utils/deprecation.py:151: FutureWarning: 'force_all_finite' was renamed to 'ensure_all_finite' in 1.6 and will be removed in 1.8.\n",
            "  warnings.warn(\n",
            "/usr/local/lib/python3.10/dist-packages/umap/umap_.py:1952: UserWarning: n_jobs value 1 overridden to 1 by setting random_state. Use no seed for parallelism.\n",
            "  warn(\n"
          ]
        },
        {
          "output_type": "display_data",
          "data": {
            "text/plain": [
              "<Figure size 1000x800 with 1 Axes>"
            ],
            "image/png": "[encoded data removed]"
          },
          "metadata": {}
        }
      ]
    }
  ],
  "metadata": {
    "colab": {
      "provenance": []
    },
    "kernelspec": {
      "display_name": "Python 3",
      "name": "python3"
    },
    "language_info": {
      "name": "python"
    },
    "widgets": {
      "application/vnd.jupyter.widget-state+json": {
        "cc55b05c5a874d3898426e61b2ac9aa0": {
          "model_module": "@jupyter-widgets/output",
          "model_name": "OutputModel",
          "model_module_version": "1.0.0",
          "state": {
            "_dom_classes": [],
            "_model_module": "@jupyter-widgets/output",
            "_model_module_version": "1.0.0",
            "_model_name": "OutputModel",
            "_view_count": null,
            "_view_module": "@jupyter-widgets/output",
            "_view_module_version": "1.0.0",
            "_view_name": "OutputView",
            "layout": "IPY_MODEL_a0b976eb396c4bbc968651c95e8b9877",
            "msg_id": "",
            "outputs": [
              {
                "output_type": "display_data",
                "data": {
                  "text/plain": "\u001b[32m⠴\u001b[0m Waiting for authorization\n",
                  "text/html": "<pre style=\"white-space:pre;overflow-x:auto;line-height:normal;font-family:Menlo,'DejaVu Sans Mono',consolas,'Courier New',monospace\"><span style=\"color: #008000; text-decoration-color: #008000\">⠴</span> Waiting for authorization\n</pre>\n"
                },
                "metadata": {}
              }
            ]
          }
        },
        "a0b976eb396c4bbc968651c95e8b9877": {
          "model_module": "@jupyter-widgets/base",
          "model_name": "LayoutModel",
          "model_module_version": "1.2.0",
          "state": {
            "_model_module": "@jupyter-widgets/base",
            "_model_module_version": "1.2.0",
            "_model_name": "LayoutModel",
            "_view_count": null,
            "_view_module": "@jupyter-widgets/base",
            "_view_module_version": "1.2.0",
            "_view_name": "LayoutView",
            "align_content": null,
            "align_items": null,
            "align_self": null,
            "border": null,
            "bottom": null,
            "display": null,
            "flex": null,
            "flex_flow": null,
            "grid_area": null,
            "grid_auto_columns": null,
            "grid_auto_flow": null,
            "grid_auto_rows": null,
            "grid_column": null,
            "grid_gap": null,
            "grid_row": null,
            "grid_template_areas": null,
            "grid_template_columns": null,
            "grid_template_rows": null,
            "height": null,
            "justify_content": null,
            "justify_items": null,
            "left": null,
            "margin": null,
            "max_height": null,
            "max_width": null,
            "min_height": null,
            "min_width": null,
            "object_fit": null,
            "object_position": null,
            "order": null,
            "overflow": null,
            "overflow_x": null,
            "overflow_y": null,
            "padding": null,
            "right": null,
            "top": null,
            "visibility": null,
            "width": null
          }
        }
      }
    }
  },
  "nbformat": 4,
  "nbformat_minor": 0
}